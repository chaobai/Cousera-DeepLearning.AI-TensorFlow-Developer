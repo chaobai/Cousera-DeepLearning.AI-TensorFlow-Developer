{
  "nbformat": 4,
  "nbformat_minor": 0,
  "metadata": {
    "accelerator": "GPU",
    "colab": {
      "name": "C1_W4_Assignment.ipynb",
      "provenance": [],
      "collapsed_sections": [],
      "include_colab_link": true
    },
    "kernelspec": {
      "name": "python3",
      "display_name": "Python 3"
    },
    "language_info": {
      "name": "python"
    }
  },
  "cells": [
    {
      "cell_type": "markdown",
      "metadata": {
        "id": "view-in-github",
        "colab_type": "text"
      },
      "source": [
        "<a href=\"https://colab.research.google.com/github/chaobai/Cousera-DeepLearning.AI-TensorFlow-Developer/blob/master/C1%20-%20Introduction%20to%20TensorFlow/W4/Assignment.ipynb\" target=\"_parent\"><img src=\"https://colab.research.google.com/assets/colab-badge.svg\" alt=\"Open In Colab\"/></a>"
      ]
    },
    {
      "cell_type": "code",
      "metadata": {
        "id": "zX4Kg8DUTKWO"
      },
      "source": [
        "#@title Licensed under the Apache License, Version 2.0 (the \"License\");\n",
        "# you may not use this file except in compliance with the License.\n",
        "# You may obtain a copy of the License at\n",
        "#\n",
        "# https://www.apache.org/licenses/LICENSE-2.0\n",
        "#\n",
        "# Unless required by applicable law or agreed to in writing, software\n",
        "# distributed under the License is distributed on an \"AS IS\" BASIS,\n",
        "# WITHOUT WARRANTIES OR CONDITIONS OF ANY KIND, either express or implied.\n",
        "# See the License for the specific language governing permissions and\n",
        "# limitations under the License."
      ],
      "execution_count": null,
      "outputs": []
    },
    {
      "cell_type": "markdown",
      "metadata": {
        "id": "5FZ6L2rlHbG5"
      },
      "source": [
        "**Things to Note:**\n",
        "1. When coding the `class myCallback`, Python 3 will run into an error\n",
        "```python\n",
        "TypeError: '>' not supported between instances of 'NoneType' and 'float'\n",
        "```\n",
        "when using the code\n",
        "```python\n",
        "if(logs.get('accuracy')>0.99):\n",
        "```\n",
        "\n",
        "For Python 3, use the following equivalent code line\n",
        "\n",
        "```python\n",
        "if logs.get('accuracy') is not None and logs.get('accuracy') > 0.99:\n",
        "```\n",
        "\n",
        "2. You can run the notebook using TensorFlow 2.5.0"
      ]
    },
    {
      "cell_type": "code",
      "metadata": {
        "id": "4UdrR8PdHbG5"
      },
      "source": [
        "#!pip install tensorflow==2.5.0"
      ],
      "execution_count": null,
      "outputs": []
    },
    {
      "cell_type": "code",
      "metadata": {
        "id": "D8Q4rstTHbG6"
      },
      "source": [
        "# this is used in downloading data from the google drive\n",
        "#!pip install gdown"
      ],
      "execution_count": null,
      "outputs": []
    },
    {
      "cell_type": "markdown",
      "metadata": {
        "id": "q_9-x1fbHbG6"
      },
      "source": [
        "Below is code with a link to a happy or sad dataset which contains 80 images, 40 happy and 40 sad. \n",
        "Create a convolutional neural network that trains to 100% accuracy on these images,  which cancels training upon hitting training accuracy of >.999\n",
        "\n",
        "Hint -- it will work best with 3 convolutional layers."
      ]
    },
    {
      "cell_type": "code",
      "metadata": {
        "id": "3NFuMFYXtwsT",
        "outputId": "d2f5480d-1b5b-457e-d8e3-dd1d55ec7a65",
        "colab": {
          "base_uri": "https://localhost:8080/"
        }
      },
      "source": [
        "import tensorflow as tf\n",
        "import os\n",
        "import zipfile\n",
        "\n",
        "!gdown --id 1NvV6VhmrfU8JDZNoEbwJxwx_6dhyN5bf \n",
        "\n",
        "zip_ref = zipfile.ZipFile(\"./happy-or-sad.zip\", 'r')\n",
        "zip_ref.extractall(\"./h-or-s\")\n",
        "zip_ref.close()"
      ],
      "execution_count": 1,
      "outputs": [
        {
          "output_type": "stream",
          "name": "stdout",
          "text": [
            "Downloading...\n",
            "From: https://drive.google.com/uc?id=1NvV6VhmrfU8JDZNoEbwJxwx_6dhyN5bf\n",
            "To: /content/happy-or-sad.zip\n",
            "\r  0% 0.00/2.67M [00:00<?, ?B/s]\r100% 2.67M/2.67M [00:00<00:00, 86.0MB/s]\n"
          ]
        }
      ]
    },
    {
      "cell_type": "code",
      "metadata": {
        "id": "eUcNTpra1FK0"
      },
      "source": [
        "# GRADED FUNCTION: train_happy_sad_model\n",
        "def train_happy_sad_model():\n",
        "    # Please write your code only where you are indicated.\n",
        "    # please do not remove # model fitting inline comments.\n",
        "\n",
        "    DESIRED_ACCURACY = 0.999\n",
        "\n",
        "    class myCallback(tf.keras.callbacks.Callback):\n",
        "        # YOUR CODE START HERE\n",
        "        def on_epoch_end(self, epoch, logs={}):\n",
        "          if (logs['accuracy'] > DESIRED_ACCURACY):\n",
        "            print(\"\\nReached 99.9% accuracy so cancelling training!\")\n",
        "            self.model.stop_training = True\n",
        "        # YOUR CODE END HERE\n",
        "        \n",
        "    callbacks = myCallback()\n",
        "    \n",
        "    # This Code Block should Define and Compile the Model. Please assume the images are 150 X 150 in your implementation.\n",
        "    model = tf.keras.models.Sequential([tf.keras.layers.Conv2D(16, (3,3), activation='relu', input_shape=(150,150,3)),\n",
        "                                        tf.keras.layers.MaxPooling2D(2,2),\n",
        "                                        tf.keras.layers.Conv2D(32, (3,3), activation='relu'),\n",
        "                                        tf.keras.layers.MaxPooling2D(2,2),\n",
        "                                        tf.keras.layers.Conv2D(64, (3,3), activation='relu'),\n",
        "                                        tf.keras.layers.MaxPooling2D(2,2),\n",
        "                                        tf.keras.layers.Flatten(),\n",
        "                                        tf.keras.layers.Dense(512, activation='relu'),\n",
        "                                        tf.keras.layers.Dense(1, activation='sigmoid')\n",
        "                                        ])\n",
        "\n",
        "    from tensorflow.keras.optimizers import RMSprop\n",
        "\n",
        "    model.compile(optimizer=RMSprop(learning_rate=0.001),\n",
        "                  loss=tf.losses.BinaryCrossentropy(),\n",
        "                  metrics=['accuracy']\n",
        "                 )\n",
        "    \n",
        "    # This code block should create an instance of an ImageDataGenerator called train_datagen \n",
        "    # And a train_generator by calling train_datagen.flow_from_directory\n",
        "\n",
        "    from tensorflow.keras.preprocessing.image import ImageDataGenerator\n",
        "\n",
        "    train_datagen = ImageDataGenerator(rescale=1/255)\n",
        "\n",
        "    # Please use a target_size of 150 X 150.\n",
        "    train_generator = train_datagen.flow_from_directory('./h-or-s',\n",
        "                                                        target_size=(150,150),\n",
        "                                                        batch_size=10,\n",
        "                                                        class_mode='binary'\n",
        "                                                       )\n",
        "    \n",
        "    # This code block should call model.fit_generator and train for\n",
        "    # a number of epochs.\n",
        "    # model fitting\n",
        "    history = model.fit(train_generator,\n",
        "                        steps_per_epoch=8,\n",
        "                        epochs=15,\n",
        "                        verbose=1,\n",
        "                        callbacks=[callbacks])\n",
        "    \n",
        "    return history.history['accuracy'][-1]"
      ],
      "execution_count": 12,
      "outputs": []
    },
    {
      "cell_type": "code",
      "metadata": {
        "id": "sSaPPUe_z_OU",
        "outputId": "aca47642-8839-4b67-f77f-3bd0c533ee35",
        "colab": {
          "base_uri": "https://localhost:8080/"
        }
      },
      "source": [
        "train_happy_sad_model()"
      ],
      "execution_count": 13,
      "outputs": [
        {
          "output_type": "stream",
          "name": "stdout",
          "text": [
            "Found 80 images belonging to 2 classes.\n",
            "Epoch 1/15\n",
            "8/8 [==============================] - 1s 29ms/step - loss: 3.9630 - accuracy: 0.4750\n",
            "Epoch 2/15\n",
            "8/8 [==============================] - 0s 28ms/step - loss: 0.5880 - accuracy: 0.6375\n",
            "Epoch 3/15\n",
            "8/8 [==============================] - 0s 27ms/step - loss: 0.5047 - accuracy: 0.8125\n",
            "Epoch 4/15\n",
            "8/8 [==============================] - 0s 28ms/step - loss: 0.3608 - accuracy: 0.8875\n",
            "Epoch 5/15\n",
            "8/8 [==============================] - 0s 27ms/step - loss: 0.1296 - accuracy: 0.9625\n",
            "Epoch 6/15\n",
            "8/8 [==============================] - 0s 27ms/step - loss: 0.0965 - accuracy: 0.9750\n",
            "Epoch 7/15\n",
            "8/8 [==============================] - 0s 27ms/step - loss: 0.0399 - accuracy: 1.0000\n",
            "\n",
            "Reached 99.9% accuracy so cancelling training!\n"
          ]
        },
        {
          "output_type": "execute_result",
          "data": {
            "text/plain": [
              "1.0"
            ]
          },
          "metadata": {},
          "execution_count": 13
        }
      ]
    }
  ]
}