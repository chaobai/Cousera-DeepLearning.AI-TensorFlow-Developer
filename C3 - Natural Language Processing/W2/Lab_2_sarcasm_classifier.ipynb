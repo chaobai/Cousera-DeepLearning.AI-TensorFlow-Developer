{
  "nbformat": 4,
  "nbformat_minor": 0,
  "metadata": {
    "colab": {
      "name": "Lab_2_sarcasm_classifier.ipynb",
      "provenance": [],
      "collapsed_sections": [],
      "authorship_tag": "ABX9TyOyyTzDj0ix/1BRpJn3T3ZK",
      "include_colab_link": true
    },
    "kernelspec": {
      "name": "python3",
      "display_name": "Python 3"
    },
    "language_info": {
      "name": "python"
    }
  },
  "cells": [
    {
      "cell_type": "markdown",
      "metadata": {
        "id": "view-in-github",
        "colab_type": "text"
      },
      "source": [
        "<a href=\"https://colab.research.google.com/github/chaobai/Cousera-DeepLearning.AI-TensorFlow-Developer/blob/master/C3%20-%20Natural%20Language%20Processing/W2/Lab_2_sarcasm_classifier.ipynb\" target=\"_parent\"><img src=\"https://colab.research.google.com/assets/colab-badge.svg\" alt=\"Open In Colab\"/></a>"
      ]
    },
    {
      "cell_type": "code",
      "metadata": {
        "id": "3OM6pjuBJ8VI"
      },
      "source": [
        "import json\n",
        "import tensorflow as tf\n",
        "\n",
        "from tensorflow.keras.preprocessing.text import Tokenizer\n",
        "from tensorflow.keras.preprocessing.sequence import pad_sequences"
      ],
      "execution_count": 1,
      "outputs": []
    },
    {
      "cell_type": "code",
      "metadata": {
        "colab": {
          "base_uri": "https://localhost:8080/"
        },
        "id": "sKi63yfJKosd",
        "outputId": "21d54211-1002-4ee5-8f49-fd26b881d444"
      },
      "source": [
        "# sarcasm.json\n",
        "!gdown --id 1xRU3xY5-tkiPGvlz5xBJ18_pHWSRzI4v"
      ],
      "execution_count": 3,
      "outputs": [
        {
          "output_type": "stream",
          "name": "stdout",
          "text": [
            "Downloading...\n",
            "From: https://drive.google.com/uc?id=1xRU3xY5-tkiPGvlz5xBJ18_pHWSRzI4v\n",
            "To: /content/sarcasm.json\n",
            "100% 5.64M/5.64M [00:00<00:00, 21.3MB/s]\n"
          ]
        }
      ]
    },
    {
      "cell_type": "code",
      "metadata": {
        "id": "4YtY5WkSKqu-"
      },
      "source": [
        "with open(\"./sarcasm.json\", 'r') as f:\n",
        "    datastore = json.load(f)\n",
        "\n",
        "sentences = []\n",
        "labels = []\n",
        "\n",
        "for item in datastore:\n",
        "    sentences.append(item['headline'])\n",
        "    labels.append(item['is_sarcastic'])"
      ],
      "execution_count": 4,
      "outputs": []
    },
    {
      "cell_type": "code",
      "metadata": {
        "id": "LSTCDrIUKPYF"
      },
      "source": [
        "vocab_size = 10000\n",
        "embedding_dim = 16\n",
        "max_length = 100\n",
        "trunc_type='post'\n",
        "padding_type='post'\n",
        "oov_tok = \"<OOV>\"\n",
        "training_size = 20000"
      ],
      "execution_count": 62,
      "outputs": []
    },
    {
      "cell_type": "code",
      "metadata": {
        "id": "izybZoWyKssb"
      },
      "source": [
        "training_sentences = sentences[0:training_size]\n",
        "testing_sentences = sentences[training_size:]\n",
        "training_labels = labels[0:training_size]\n",
        "testing_labels = labels[training_size:]"
      ],
      "execution_count": 63,
      "outputs": []
    },
    {
      "cell_type": "code",
      "metadata": {
        "id": "zeuzKBhvKu1P"
      },
      "source": [
        "tokenizer = Tokenizer(num_words=vocab_size, oov_token=oov_tok)\n",
        "tokenizer.fit_on_texts(training_sentences)\n",
        "\n",
        "word_index = tokenizer.word_index\n",
        "\n",
        "training_sequences = tokenizer.texts_to_sequences(training_sentences)\n",
        "training_padded = pad_sequences(training_sequences, maxlen=max_length, padding=padding_type, truncating=trunc_type)\n",
        "\n",
        "testing_sequences = tokenizer.texts_to_sequences(testing_sentences)\n",
        "testing_padded = pad_sequences(testing_sequences, maxlen=max_length, padding=padding_type, truncating=trunc_type)"
      ],
      "execution_count": 64,
      "outputs": []
    },
    {
      "cell_type": "code",
      "metadata": {
        "id": "eeSeE1n1KwR1"
      },
      "source": [
        "# Need this block to get it to work with TensorFlow 2.x\n",
        "import numpy as np\n",
        "training_padded = np.array(training_padded)\n",
        "training_labels = np.array(training_labels)\n",
        "testing_padded = np.array(testing_padded)\n",
        "testing_labels = np.array(testing_labels)"
      ],
      "execution_count": 65,
      "outputs": []
    },
    {
      "cell_type": "code",
      "metadata": {
        "id": "dKf0xt3WKzzU"
      },
      "source": [
        "model = tf.keras.Sequential([\n",
        "    tf.keras.layers.Embedding(vocab_size, embedding_dim, input_length=max_length),\n",
        "    tf.keras.layers.GlobalAveragePooling1D(),\n",
        "    tf.keras.layers.Dense(24, activation='relu'),\n",
        "    tf.keras.layers.Dense(1, activation='sigmoid')\n",
        "])\n",
        "model.compile(loss='binary_crossentropy',optimizer='adam',metrics=['accuracy'])"
      ],
      "execution_count": 66,
      "outputs": []
    },
    {
      "cell_type": "code",
      "metadata": {
        "colab": {
          "base_uri": "https://localhost:8080/"
        },
        "id": "vi6MBaQlK3Za",
        "outputId": "b25aa9b8-3924-4aa4-a0be-2ac26f9b813e"
      },
      "source": [
        "model.summary()"
      ],
      "execution_count": 67,
      "outputs": [
        {
          "output_type": "stream",
          "name": "stdout",
          "text": [
            "Model: \"sequential_6\"\n",
            "_________________________________________________________________\n",
            "Layer (type)                 Output Shape              Param #   \n",
            "=================================================================\n",
            "embedding_6 (Embedding)      (None, 100, 16)           160000    \n",
            "_________________________________________________________________\n",
            "global_average_pooling1d_6 ( (None, 16)                0         \n",
            "_________________________________________________________________\n",
            "dense_12 (Dense)             (None, 24)                408       \n",
            "_________________________________________________________________\n",
            "dense_13 (Dense)             (None, 1)                 25        \n",
            "=================================================================\n",
            "Total params: 160,433\n",
            "Trainable params: 160,433\n",
            "Non-trainable params: 0\n",
            "_________________________________________________________________\n"
          ]
        }
      ]
    },
    {
      "cell_type": "code",
      "metadata": {
        "colab": {
          "base_uri": "https://localhost:8080/"
        },
        "id": "5yXDC6eRK6W6",
        "outputId": "4686fc3e-493a-4dec-b442-7b39a893475d"
      },
      "source": [
        "num_epochs = 30\n",
        "history = model.fit(training_padded, training_labels, epochs=num_epochs, validation_data=(testing_padded, testing_labels), verbose=2)"
      ],
      "execution_count": 68,
      "outputs": [
        {
          "output_type": "stream",
          "name": "stdout",
          "text": [
            "Epoch 1/30\n",
            "625/625 - 2s - loss: 0.6659 - accuracy: 0.5881 - val_loss: 0.5976 - val_accuracy: 0.6679\n",
            "Epoch 2/30\n",
            "625/625 - 2s - loss: 0.4551 - accuracy: 0.8208 - val_loss: 0.3953 - val_accuracy: 0.8377\n",
            "Epoch 3/30\n",
            "625/625 - 2s - loss: 0.3250 - accuracy: 0.8712 - val_loss: 0.3566 - val_accuracy: 0.8521\n",
            "Epoch 4/30\n",
            "625/625 - 2s - loss: 0.2720 - accuracy: 0.8928 - val_loss: 0.3456 - val_accuracy: 0.8518\n",
            "Epoch 5/30\n",
            "625/625 - 2s - loss: 0.2350 - accuracy: 0.9094 - val_loss: 0.3407 - val_accuracy: 0.8562\n",
            "Epoch 6/30\n",
            "625/625 - 2s - loss: 0.2077 - accuracy: 0.9202 - val_loss: 0.3505 - val_accuracy: 0.8553\n",
            "Epoch 7/30\n",
            "625/625 - 2s - loss: 0.1849 - accuracy: 0.9294 - val_loss: 0.3531 - val_accuracy: 0.8544\n",
            "Epoch 8/30\n",
            "625/625 - 2s - loss: 0.1662 - accuracy: 0.9377 - val_loss: 0.3708 - val_accuracy: 0.8515\n",
            "Epoch 9/30\n",
            "625/625 - 2s - loss: 0.1501 - accuracy: 0.9445 - val_loss: 0.3873 - val_accuracy: 0.8490\n",
            "Epoch 10/30\n",
            "625/625 - 2s - loss: 0.1372 - accuracy: 0.9499 - val_loss: 0.4060 - val_accuracy: 0.8465\n",
            "Epoch 11/30\n",
            "625/625 - 2s - loss: 0.1254 - accuracy: 0.9563 - val_loss: 0.4172 - val_accuracy: 0.8509\n",
            "Epoch 12/30\n",
            "625/625 - 2s - loss: 0.1135 - accuracy: 0.9609 - val_loss: 0.4377 - val_accuracy: 0.8495\n",
            "Epoch 13/30\n",
            "625/625 - 2s - loss: 0.1039 - accuracy: 0.9648 - val_loss: 0.4608 - val_accuracy: 0.8466\n",
            "Epoch 14/30\n",
            "625/625 - 2s - loss: 0.0963 - accuracy: 0.9681 - val_loss: 0.4848 - val_accuracy: 0.8430\n",
            "Epoch 15/30\n",
            "625/625 - 2s - loss: 0.0870 - accuracy: 0.9717 - val_loss: 0.5106 - val_accuracy: 0.8422\n",
            "Epoch 16/30\n",
            "625/625 - 2s - loss: 0.0803 - accuracy: 0.9739 - val_loss: 0.5399 - val_accuracy: 0.8399\n",
            "Epoch 17/30\n",
            "625/625 - 2s - loss: 0.0739 - accuracy: 0.9754 - val_loss: 0.5674 - val_accuracy: 0.8386\n",
            "Epoch 18/30\n",
            "625/625 - 2s - loss: 0.0686 - accuracy: 0.9786 - val_loss: 0.6021 - val_accuracy: 0.8326\n",
            "Epoch 19/30\n",
            "625/625 - 2s - loss: 0.0621 - accuracy: 0.9807 - val_loss: 0.6337 - val_accuracy: 0.8328\n",
            "Epoch 20/30\n",
            "625/625 - 2s - loss: 0.0567 - accuracy: 0.9829 - val_loss: 0.7030 - val_accuracy: 0.8219\n",
            "Epoch 21/30\n",
            "625/625 - 2s - loss: 0.0549 - accuracy: 0.9830 - val_loss: 0.7011 - val_accuracy: 0.8280\n",
            "Epoch 22/30\n",
            "625/625 - 2s - loss: 0.0484 - accuracy: 0.9854 - val_loss: 0.7397 - val_accuracy: 0.8250\n",
            "Epoch 23/30\n",
            "625/625 - 2s - loss: 0.0449 - accuracy: 0.9861 - val_loss: 0.7667 - val_accuracy: 0.8243\n",
            "Epoch 24/30\n",
            "625/625 - 2s - loss: 0.0415 - accuracy: 0.9880 - val_loss: 0.7998 - val_accuracy: 0.8231\n",
            "Epoch 25/30\n",
            "625/625 - 2s - loss: 0.0380 - accuracy: 0.9887 - val_loss: 0.8348 - val_accuracy: 0.8223\n",
            "Epoch 26/30\n",
            "625/625 - 2s - loss: 0.0353 - accuracy: 0.9901 - val_loss: 0.8699 - val_accuracy: 0.8213\n",
            "Epoch 27/30\n",
            "625/625 - 2s - loss: 0.0328 - accuracy: 0.9908 - val_loss: 0.9113 - val_accuracy: 0.8168\n",
            "Epoch 28/30\n",
            "625/625 - 2s - loss: 0.0306 - accuracy: 0.9912 - val_loss: 0.9530 - val_accuracy: 0.8158\n",
            "Epoch 29/30\n",
            "625/625 - 2s - loss: 0.0264 - accuracy: 0.9928 - val_loss: 0.9801 - val_accuracy: 0.8162\n",
            "Epoch 30/30\n",
            "625/625 - 2s - loss: 0.0273 - accuracy: 0.9912 - val_loss: 1.0123 - val_accuracy: 0.8153\n"
          ]
        }
      ]
    },
    {
      "cell_type": "code",
      "metadata": {
        "colab": {
          "base_uri": "https://localhost:8080/",
          "height": 541
        },
        "id": "aB3KxpZ0K8Yy",
        "outputId": "cd2d0ee5-8540-4d74-f8c0-4b5ecca3bba1"
      },
      "source": [
        "import matplotlib.pyplot as plt\n",
        "\n",
        "def plot_graphs(history, string):\n",
        "  plt.plot(history.history[string])\n",
        "  plt.plot(history.history['val_'+string])\n",
        "  plt.xlabel(\"Epochs\")\n",
        "  plt.ylabel(string)\n",
        "  plt.legend([string, 'val_'+string])\n",
        "  plt.show()\n",
        "  \n",
        "plot_graphs(history, \"accuracy\")\n",
        "plot_graphs(history, \"loss\")"
      ],
      "execution_count": 69,
      "outputs": [
        {
          "output_type": "display_data",
          "data": {
            "image/png": "[encoded data removed]",
            "text/plain": [
              "<Figure size 432x288 with 1 Axes>"
            ]
          },
          "metadata": {
            "needs_background": "light"
          }
        },
        {
          "output_type": "display_data",
          "data": {
            "image/png": "[encoded data removed]",
            "text/plain": [
              "<Figure size 432x288 with 1 Axes>"
            ]
          },
          "metadata": {
            "needs_background": "light"
          }
        }
      ]
    },
    {
      "cell_type": "code",
      "metadata": {
        "colab": {
          "base_uri": "https://localhost:8080/"
        },
        "id": "aaEFedYJK_Uk",
        "outputId": "c5b6b753-ddfb-461e-9155-d80d739f56bf"
      },
      "source": [
        "reverse_word_index = dict([(value, key) for (key, value) in word_index.items()])\n",
        "\n",
        "def decode_sentence(text):\n",
        "    return ' '.join([reverse_word_index.get(i, '?') for i in text])\n",
        "\n",
        "print(decode_sentence(training_padded[0]))\n",
        "print(training_sentences[2])\n",
        "print(labels[2])"
      ],
      "execution_count": 70,
      "outputs": [
        {
          "output_type": "stream",
          "name": "stdout",
          "text": [
            "former <OOV> store clerk sues over secret 'black <OOV> for minority shoppers ? ? ? ? ? ? ? ? ? ? ? ? ? ? ? ? ? ? ? ? ? ? ? ? ? ? ? ? ? ? ? ? ? ? ? ? ? ? ? ? ? ? ? ? ? ? ? ? ? ? ? ? ? ? ? ? ? ? ? ? ? ? ? ? ? ? ? ? ? ? ? ? ? ? ? ? ? ? ? ? ? ? ? ? ? ? ? ?\n",
            "mom starting to fear son's web series closest thing she will have to grandchild\n",
            "1\n"
          ]
        }
      ]
    },
    {
      "cell_type": "code",
      "metadata": {
        "colab": {
          "base_uri": "https://localhost:8080/"
        },
        "id": "LT31vaL_LA8M",
        "outputId": "e6ad8c15-8f3c-41a4-841f-62989e88f7ec"
      },
      "source": [
        "e = model.layers[0]\n",
        "weights = e.get_weights()[0]\n",
        "print(weights.shape) # shape: (vocab_size, embedding_dim)"
      ],
      "execution_count": 71,
      "outputs": [
        {
          "output_type": "stream",
          "name": "stdout",
          "text": [
            "(10000, 16)\n"
          ]
        }
      ]
    },
    {
      "cell_type": "code",
      "metadata": {
        "id": "yPD13YGeLCjk"
      },
      "source": [
        "import io\n",
        "\n",
        "out_v = io.open('vecs.tsv', 'w', encoding='utf-8')\n",
        "out_m = io.open('meta.tsv', 'w', encoding='utf-8')\n",
        "for word_num in range(1, vocab_size):\n",
        "  word = reverse_word_index[word_num]\n",
        "  embeddings = weights[word_num]\n",
        "  out_m.write(word + \"\\n\")\n",
        "  out_v.write('\\t'.join([str(x) for x in embeddings]) + \"\\n\")\n",
        "out_v.close()\n",
        "out_m.close()"
      ],
      "execution_count": 72,
      "outputs": []
    },
    {
      "cell_type": "code",
      "metadata": {
        "colab": {
          "base_uri": "https://localhost:8080/",
          "height": 17
        },
        "id": "3j7ykBHLLEhE",
        "outputId": "bc0c93e7-12d8-4d01-839b-1bb2371d46d5"
      },
      "source": [
        "try:\n",
        "  from google.colab import files\n",
        "except ImportError:\n",
        "  pass\n",
        "else:\n",
        "  files.download('vecs.tsv')\n",
        "  files.download('meta.tsv')"
      ],
      "execution_count": 73,
      "outputs": [
        {
          "output_type": "display_data",
          "data": {
            "application/javascript": [
              "\n",
              "    async function download(id, filename, size) {\n",
              "      if (!google.colab.kernel.accessAllowed) {\n",
              "        return;\n",
              "      }\n",
              "      const div = document.createElement('div');\n",
              "      const label = document.createElement('label');\n",
              "      label.textContent = `Downloading \"${filename}\": `;\n",
              "      div.appendChild(label);\n",
              "      const progress = document.createElement('progress');\n",
              "      progress.max = size;\n",
              "      div.appendChild(progress);\n",
              "      document.body.appendChild(div);\n",
              "\n",
              "      const buffers = [];\n",
              "      let downloaded = 0;\n",
              "\n",
              "      const channel = await google.colab.kernel.comms.open(id);\n",
              "      // Send a message to notify the kernel that we're ready.\n",
              "      channel.send({})\n",
              "\n",
              "      for await (const message of channel.messages) {\n",
              "        // Send a message to notify the kernel that we're ready.\n",
              "        channel.send({})\n",
              "        if (message.buffers) {\n",
              "          for (const buffer of message.buffers) {\n",
              "            buffers.push(buffer);\n",
              "            downloaded += buffer.byteLength;\n",
              "            progress.value = downloaded;\n",
              "          }\n",
              "        }\n",
              "      }\n",
              "      const blob = new Blob(buffers, {type: 'application/binary'});\n",
              "      const a = document.createElement('a');\n",
              "      a.href = window.URL.createObjectURL(blob);\n",
              "      a.download = filename;\n",
              "      div.appendChild(a);\n",
              "      a.click();\n",
              "      div.remove();\n",
              "    }\n",
              "  "
            ],
            "text/plain": [
              "<IPython.core.display.Javascript object>"
            ]
          },
          "metadata": {}
        },
        {
          "output_type": "display_data",
          "data": {
            "application/javascript": [
              "download(\"download_93536d32-7d32-433b-8318-e7213b0e3f45\", \"vecs.tsv\", 1811708)"
            ],
            "text/plain": [
              "<IPython.core.display.Javascript object>"
            ]
          },
          "metadata": {}
        },
        {
          "output_type": "display_data",
          "data": {
            "application/javascript": [
              "\n",
              "    async function download(id, filename, size) {\n",
              "      if (!google.colab.kernel.accessAllowed) {\n",
              "        return;\n",
              "      }\n",
              "      const div = document.createElement('div');\n",
              "      const label = document.createElement('label');\n",
              "      label.textContent = `Downloading \"${filename}\": `;\n",
              "      div.appendChild(label);\n",
              "      const progress = document.createElement('progress');\n",
              "      progress.max = size;\n",
              "      div.appendChild(progress);\n",
              "      document.body.appendChild(div);\n",
              "\n",
              "      const buffers = [];\n",
              "      let downloaded = 0;\n",
              "\n",
              "      const channel = await google.colab.kernel.comms.open(id);\n",
              "      // Send a message to notify the kernel that we're ready.\n",
              "      channel.send({})\n",
              "\n",
              "      for await (const message of channel.messages) {\n",
              "        // Send a message to notify the kernel that we're ready.\n",
              "        channel.send({})\n",
              "        if (message.buffers) {\n",
              "          for (const buffer of message.buffers) {\n",
              "            buffers.push(buffer);\n",
              "            downloaded += buffer.byteLength;\n",
              "            progress.value = downloaded;\n",
              "          }\n",
              "        }\n",
              "      }\n",
              "      const blob = new Blob(buffers, {type: 'application/binary'});\n",
              "      const a = document.createElement('a');\n",
              "      a.href = window.URL.createObjectURL(blob);\n",
              "      a.download = filename;\n",
              "      div.appendChild(a);\n",
              "      a.click();\n",
              "      div.remove();\n",
              "    }\n",
              "  "
            ],
            "text/plain": [
              "<IPython.core.display.Javascript object>"
            ]
          },
          "metadata": {}
        },
        {
          "output_type": "display_data",
          "data": {
            "application/javascript": [
              "download(\"download_32ae98e9-4f16-4516-ba1d-3b3606347024\", \"meta.tsv\", 75974)"
            ],
            "text/plain": [
              "<IPython.core.display.Javascript object>"
            ]
          },
          "metadata": {}
        }
      ]
    },
    {
      "cell_type": "code",
      "metadata": {
        "colab": {
          "base_uri": "https://localhost:8080/"
        },
        "id": "g7jUxmtzLGO6",
        "outputId": "53f6fc9a-635c-44a6-c3e0-82b473d23a33"
      },
      "source": [
        "sentence = [\"granny starting to fear spiders in the garden might be real\", \"game of thrones season finale showing this sunday night\"]\n",
        "sequences = tokenizer.texts_to_sequences(sentence)\n",
        "padded = pad_sequences(sequences, maxlen=max_length, padding=padding_type, truncating=trunc_type)\n",
        "print(model.predict(padded))"
      ],
      "execution_count": 74,
      "outputs": [
        {
          "output_type": "stream",
          "name": "stdout",
          "text": [
            "[[9.7341967e-01]\n",
            " [5.6858258e-05]]\n"
          ]
        }
      ]
    }
  ]
}