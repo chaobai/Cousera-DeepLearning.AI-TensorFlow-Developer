{
  "nbformat": 4,
  "nbformat_minor": 0,
  "metadata": {
    "accelerator": "GPU",
    "colab": {
      "name": "C3_W3_Assignment.ipynb",
      "provenance": [],
      "include_colab_link": true
    },
    "kernelspec": {
      "display_name": "Python 3",
      "language": "python",
      "name": "python3"
    },
    "language_info": {
      "codemirror_mode": {
        "name": "ipython",
        "version": 3
      },
      "file_extension": ".py",
      "mimetype": "text/x-python",
      "name": "python",
      "nbconvert_exporter": "python",
      "pygments_lexer": "ipython3",
      "version": "3.8.5"
    }
  },
  "cells": [
    {
      "cell_type": "markdown",
      "metadata": {
        "id": "view-in-github",
        "colab_type": "text"
      },
      "source": [
        "<a href=\"https://colab.research.google.com/github/chaobai/Cousera-DeepLearning.AI-TensorFlow-Developer/blob/master/C3%20-%20Natural%20Language%20Processing/W3/Assignment.ipynb\" target=\"_parent\"><img src=\"https://colab.research.google.com/assets/colab-badge.svg\" alt=\"Open In Colab\"/></a>"
      ]
    },
    {
      "cell_type": "code",
      "metadata": {
        "id": "zX4Kg8DUTKWO"
      },
      "source": [
        "#@title Licensed under the Apache License, Version 2.0 (the \"License\");\n",
        "# you may not use this file except in compliance with the License.\n",
        "# You may obtain a copy of the License at\n",
        "#\n",
        "# https://www.apache.org/licenses/LICENSE-2.0\n",
        "#\n",
        "# Unless required by applicable law or agreed to in writing, software\n",
        "# distributed under the License is distributed on an \"AS IS\" BASIS,\n",
        "# WITHOUT WARRANTIES OR CONDITIONS OF ANY KIND, either express or implied.\n",
        "# See the License for the specific language governing permissions and\n",
        "# limitations under the License."
      ],
      "execution_count": 35,
      "outputs": []
    },
    {
      "cell_type": "markdown",
      "metadata": {
        "id": "gnU1TV9kV5f9"
      },
      "source": [
        "**Note:** This notebook can run using TensorFlow 2.5.0"
      ]
    },
    {
      "cell_type": "code",
      "metadata": {
        "id": "qTZDRvo5V5f9"
      },
      "source": [
        "#!pip install tensorflow==2.5.0"
      ],
      "execution_count": 36,
      "outputs": []
    },
    {
      "cell_type": "code",
      "metadata": {
        "id": "hmA6EzkQJ5jt"
      },
      "source": [
        "import json\n",
        "import tensorflow as tf\n",
        "import csv\n",
        "import random\n",
        "import numpy as np\n",
        "\n",
        "from tensorflow.keras.preprocessing.text import Tokenizer\n",
        "from tensorflow.keras.preprocessing.sequence import pad_sequences\n",
        "from tensorflow.keras.utils import to_categorical\n",
        "from tensorflow.keras import regularizers\n",
        "\n",
        "embedding_dim = 100\n",
        "max_length = 16\n",
        "trunc_type='post'\n",
        "padding_type='post'\n",
        "oov_tok = \"<OOV>\"\n",
        "training_size = 160000 #Your dataset size here. Experiment using smaller values (i.e. 16000), but don't forget to train on at least 160000 to see the best effects\n",
        "test_portion=.1\n",
        "\n",
        "corpus = []"
      ],
      "execution_count": 44,
      "outputs": []
    },
    {
      "cell_type": "code",
      "metadata": {
        "id": "bM0l_dORKqE0",
        "outputId": "6a0a8f95-cc86-46f0-c810-36422245c2ee",
        "colab": {
          "base_uri": "https://localhost:8080/"
        }
      },
      "source": [
        "# Note that I cleaned the Stanford dataset to remove LATIN1 encoding to make it easier for Python CSV reader\n",
        "# You can do that yourself with:\n",
        "# iconv -f LATIN1 -t UTF8 training.1600000.processed.noemoticon.csv -o training_cleaned.csv\n",
        "\n",
        "# training_cleaned.csv\n",
        "!gdown --id 1wd8KaeCSHxt-nEpMeuHFSNWrDp8joUXJ\n",
        "\n",
        "num_sentences = 0\n",
        "\n",
        "with open(\"./training_cleaned.csv\") as csvfile:\n",
        "    reader = csv.reader(csvfile, delimiter=',')\n",
        "    for i, row in enumerate(reader):\n",
        "        list_item=[]\n",
        "        ### START CODE HERE\n",
        "        #Create list items where the first item is the text, found in row[5], and the second is the label. Note that the label is a '0' or a '4' in the text. When it's the former, make\n",
        "        # your label to be 0, otherwise 1. Keep a count of the number of sentences in num_sentences\n",
        "        list_item.append(row[5])\n",
        "        list_item.append(0 if row[0] == '0' else 1)\n",
        "        ### END CODE HERE\n",
        "        \n",
        "        num_sentences = num_sentences + 1\n",
        "        corpus.append(list_item)\n"
      ],
      "execution_count": 45,
      "outputs": [
        {
          "output_type": "stream",
          "name": "stdout",
          "text": [
            "Downloading...\n",
            "From: https://drive.google.com/uc?id=1wd8KaeCSHxt-nEpMeuHFSNWrDp8joUXJ\n",
            "To: /content/training_cleaned.csv\n",
            "100% 239M/239M [00:01<00:00, 185MB/s]\n"
          ]
        }
      ]
    },
    {
      "cell_type": "code",
      "metadata": {
        "id": "3kxblBUjEUX-",
        "outputId": "20d068c7-0627-470f-f8e0-191e7ae764c2",
        "colab": {
          "base_uri": "https://localhost:8080/"
        }
      },
      "source": [
        "print(num_sentences)\n",
        "print(len(corpus))\n",
        "print(corpus[1])\n",
        "\n",
        "# Expected Output:\n",
        "# 1600000\n",
        "# 1600000\n",
        "# [\"is upset that he can't update his Facebook by texting it... and might cry as a result  School today also. Blah!\", 0]"
      ],
      "execution_count": 39,
      "outputs": [
        {
          "output_type": "stream",
          "name": "stdout",
          "text": [
            "1600000\n",
            "1600000\n",
            "[\"is upset that he can't update his Facebook by texting it... and might cry as a result  School today also. Blah!\", 0]\n"
          ]
        }
      ]
    },
    {
      "cell_type": "code",
      "metadata": {
        "id": "ohOGz24lsNAD"
      },
      "source": [
        "sentences=[]\n",
        "labels=[]\n",
        "random.shuffle(corpus)\n",
        "for x in range(training_size):\n",
        "    sentences.append(corpus[x][0])\n",
        "    labels.append(corpus[x][1])\n",
        "\n",
        "tokenizer = Tokenizer()\n",
        "tokenizer.fit_on_texts(sentences)\n",
        "\n",
        "word_index = tokenizer.word_index\n",
        "vocab_size=len(word_index)\n",
        "\n",
        "sequences = tokenizer.texts_to_sequences(sentences)\n",
        "padded = pad_sequences(sequences, maxlen=max_length, truncating=trunc_type, padding=padding_type)\n",
        "\n",
        "split = int(test_portion * training_size)\n",
        "\n",
        "test_sequences = padded[split:]\n",
        "training_sequences = padded[:split]\n",
        "test_labels = labels[split:]\n",
        "training_labels = labels[:split]"
      ],
      "execution_count": 40,
      "outputs": []
    },
    {
      "cell_type": "code",
      "metadata": {
        "id": "gIrtRem1En3N",
        "outputId": "5f51af9f-a5c8-4747-88d7-6fe60bab4d9e",
        "colab": {
          "base_uri": "https://localhost:8080/"
        }
      },
      "source": [
        "print(vocab_size)\n",
        "print(word_index['i'])\n",
        "# Expected Output\n",
        "# 138856\n",
        "# 1"
      ],
      "execution_count": 43,
      "outputs": [
        {
          "output_type": "stream",
          "name": "stdout",
          "text": [
            "138948\n",
            "1\n"
          ]
        }
      ]
    },
    {
      "cell_type": "code",
      "metadata": {
        "id": "C1zdgJkusRh0",
        "outputId": "dde9ef2a-b750-423e-9527-f3c36e70986b",
        "colab": {
          "base_uri": "https://localhost:8080/"
        }
      },
      "source": [
        "# Note this is the 100 dimension version of GloVe from Stanford\n",
        "\n",
        "# glove.6B.100d.txt\n",
        "!gdown --id 1W5vZy2etitAblLdFn8_DxnsQKzfFJ98g\n",
        "\n",
        "embeddings_index = {};\n",
        "with open('./glove.6B.100d.txt') as f:\n",
        "    for line in f:\n",
        "        values = line.split();\n",
        "        word = values[0];\n",
        "        coefs = np.asarray(values[1:], dtype='float32');\n",
        "        embeddings_index[word] = coefs;\n",
        "\n",
        "embeddings_matrix = np.zeros((vocab_size+1, embedding_dim));\n",
        "for word, i in word_index.items():\n",
        "    embedding_vector = embeddings_index.get(word);\n",
        "    if embedding_vector is not None:\n",
        "        embeddings_matrix[i] = embedding_vector;"
      ],
      "execution_count": 41,
      "outputs": [
        {
          "output_type": "stream",
          "name": "stdout",
          "text": [
            "Downloading...\n",
            "From: https://drive.google.com/uc?id=1W5vZy2etitAblLdFn8_DxnsQKzfFJ98g\n",
            "To: /content/glove.6B.100d.txt\n",
            "100% 347M/347M [00:05<00:00, 68.1MB/s]\n"
          ]
        }
      ]
    },
    {
      "cell_type": "code",
      "metadata": {
        "id": "71NLk_lpFLNt",
        "outputId": "5c7845c9-77f2-4be0-c08f-2c560fed386d",
        "colab": {
          "base_uri": "https://localhost:8080/"
        }
      },
      "source": [
        "print(len(embeddings_matrix))\n",
        "# Expected Output\n",
        "# 138857"
      ],
      "execution_count": 42,
      "outputs": [
        {
          "output_type": "stream",
          "name": "stdout",
          "text": [
            "138949\n"
          ]
        }
      ]
    },
    {
      "cell_type": "code",
      "metadata": {
        "id": "iKKvbuEBOGFz",
        "outputId": "97ab95ad-832a-47e3-8078-523deace9e88",
        "colab": {
          "base_uri": "https://localhost:8080/"
        }
      },
      "source": [
        "model = tf.keras.Sequential([\n",
        "    tf.keras.layers.Embedding(vocab_size+1, embedding_dim, input_length=max_length, weights=[embeddings_matrix], trainable=False),\n",
        "    # YOUR CODE HERE - experiment with combining different types, such as convolutions and LSTMs\n",
        "    tf.keras.layers.GlobalAveragePooling1D(),\n",
        "    tf.keras.layers.Dense(10, activation='relu'),\n",
        "    tf.keras.layers.Dense(1, activation='sigmoid')\n",
        "])\n",
        "model.compile(optimizer=tf.optimizers.Adam(),\n",
        "              loss=tf.losses.BinaryCrossentropy(),\n",
        "              metrics=['accuracy'])\n",
        "model.summary()\n",
        "\n",
        "num_epochs = 50\n",
        "\n",
        "training_padded = np.array(training_sequences)\n",
        "training_labels = np.array(training_labels)\n",
        "testing_padded = np.array(test_sequences)\n",
        "testing_labels = np.array(test_labels)\n",
        "\n",
        "history = model.fit(training_padded, training_labels, epochs=num_epochs, validation_data=(testing_padded, testing_labels), verbose=2)\n",
        "\n",
        "print(\"Training Complete\")"
      ],
      "execution_count": 48,
      "outputs": [
        {
          "output_type": "stream",
          "name": "stdout",
          "text": [
            "Model: \"sequential_2\"\n",
            "_________________________________________________________________\n",
            " Layer (type)                Output Shape              Param #   \n",
            "=================================================================\n",
            " embedding_2 (Embedding)     (None, 16, 100)           13894900  \n",
            "                                                                 \n",
            " global_average_pooling1d_1   (None, 100)              0         \n",
            " (GlobalAveragePooling1D)                                        \n",
            "                                                                 \n",
            " dense_4 (Dense)             (None, 10)                1010      \n",
            "                                                                 \n",
            " dense_5 (Dense)             (None, 1)                 11        \n",
            "                                                                 \n",
            "=================================================================\n",
            "Total params: 13,895,921\n",
            "Trainable params: 1,021\n",
            "Non-trainable params: 13,894,900\n",
            "_________________________________________________________________\n",
            "Epoch 1/50\n",
            "500/500 - 11s - loss: 0.6676 - accuracy: 0.6088 - val_loss: 0.6412 - val_accuracy: 0.6500 - 11s/epoch - 22ms/step\n",
            "Epoch 2/50\n",
            "500/500 - 11s - loss: 0.6281 - accuracy: 0.6594 - val_loss: 0.6200 - val_accuracy: 0.6667 - 11s/epoch - 23ms/step\n",
            "Epoch 3/50\n",
            "500/500 - 11s - loss: 0.6136 - accuracy: 0.6697 - val_loss: 0.6109 - val_accuracy: 0.6762 - 11s/epoch - 23ms/step\n",
            "Epoch 4/50\n",
            "500/500 - 9s - loss: 0.6058 - accuracy: 0.6773 - val_loss: 0.6050 - val_accuracy: 0.6798 - 9s/epoch - 18ms/step\n",
            "Epoch 5/50\n",
            "500/500 - 9s - loss: 0.6002 - accuracy: 0.6817 - val_loss: 0.5998 - val_accuracy: 0.6839 - 9s/epoch - 17ms/step\n",
            "Epoch 6/50\n",
            "500/500 - 11s - loss: 0.5946 - accuracy: 0.6833 - val_loss: 0.5957 - val_accuracy: 0.6867 - 11s/epoch - 22ms/step\n",
            "Epoch 7/50\n",
            "500/500 - 11s - loss: 0.5899 - accuracy: 0.6867 - val_loss: 0.5942 - val_accuracy: 0.6860 - 11s/epoch - 23ms/step\n",
            "Epoch 8/50\n",
            "500/500 - 11s - loss: 0.5865 - accuracy: 0.6901 - val_loss: 0.5907 - val_accuracy: 0.6890 - 11s/epoch - 23ms/step\n",
            "Epoch 9/50\n",
            "500/500 - 9s - loss: 0.5836 - accuracy: 0.6905 - val_loss: 0.5887 - val_accuracy: 0.6907 - 9s/epoch - 17ms/step\n",
            "Epoch 10/50\n",
            "500/500 - 9s - loss: 0.5806 - accuracy: 0.6911 - val_loss: 0.5893 - val_accuracy: 0.6898 - 9s/epoch - 18ms/step\n",
            "Epoch 11/50\n",
            "500/500 - 9s - loss: 0.5794 - accuracy: 0.6923 - val_loss: 0.5895 - val_accuracy: 0.6882 - 9s/epoch - 18ms/step\n",
            "Epoch 12/50\n",
            "500/500 - 11s - loss: 0.5767 - accuracy: 0.6945 - val_loss: 0.5867 - val_accuracy: 0.6901 - 11s/epoch - 23ms/step\n",
            "Epoch 13/50\n",
            "500/500 - 9s - loss: 0.5747 - accuracy: 0.6947 - val_loss: 0.5886 - val_accuracy: 0.6901 - 9s/epoch - 18ms/step\n",
            "Epoch 14/50\n",
            "500/500 - 9s - loss: 0.5726 - accuracy: 0.7001 - val_loss: 0.5852 - val_accuracy: 0.6910 - 9s/epoch - 18ms/step\n",
            "Epoch 15/50\n",
            "500/500 - 11s - loss: 0.5717 - accuracy: 0.6961 - val_loss: 0.5841 - val_accuracy: 0.6923 - 11s/epoch - 23ms/step\n",
            "Epoch 16/50\n",
            "500/500 - 11s - loss: 0.5703 - accuracy: 0.6989 - val_loss: 0.5852 - val_accuracy: 0.6907 - 11s/epoch - 23ms/step\n",
            "Epoch 17/50\n",
            "500/500 - 11s - loss: 0.5695 - accuracy: 0.6993 - val_loss: 0.5823 - val_accuracy: 0.6923 - 11s/epoch - 23ms/step\n",
            "Epoch 18/50\n",
            "500/500 - 11s - loss: 0.5685 - accuracy: 0.7010 - val_loss: 0.5831 - val_accuracy: 0.6905 - 11s/epoch - 23ms/step\n",
            "Epoch 19/50\n",
            "500/500 - 9s - loss: 0.5676 - accuracy: 0.7007 - val_loss: 0.5829 - val_accuracy: 0.6917 - 9s/epoch - 17ms/step\n",
            "Epoch 20/50\n",
            "500/500 - 11s - loss: 0.5674 - accuracy: 0.6989 - val_loss: 0.5844 - val_accuracy: 0.6918 - 11s/epoch - 23ms/step\n",
            "Epoch 21/50\n",
            "500/500 - 9s - loss: 0.5656 - accuracy: 0.6994 - val_loss: 0.5816 - val_accuracy: 0.6924 - 9s/epoch - 18ms/step\n",
            "Epoch 22/50\n",
            "500/500 - 9s - loss: 0.5648 - accuracy: 0.6992 - val_loss: 0.5815 - val_accuracy: 0.6922 - 9s/epoch - 17ms/step\n",
            "Epoch 23/50\n",
            "500/500 - 11s - loss: 0.5649 - accuracy: 0.6998 - val_loss: 0.5824 - val_accuracy: 0.6913 - 11s/epoch - 23ms/step\n",
            "Epoch 24/50\n",
            "500/500 - 11s - loss: 0.5637 - accuracy: 0.7013 - val_loss: 0.5826 - val_accuracy: 0.6918 - 11s/epoch - 23ms/step\n",
            "Epoch 25/50\n",
            "500/500 - 11s - loss: 0.5627 - accuracy: 0.7027 - val_loss: 0.5817 - val_accuracy: 0.6927 - 11s/epoch - 23ms/step\n",
            "Epoch 26/50\n",
            "500/500 - 11s - loss: 0.5622 - accuracy: 0.7021 - val_loss: 0.5839 - val_accuracy: 0.6904 - 11s/epoch - 23ms/step\n",
            "Epoch 27/50\n",
            "500/500 - 11s - loss: 0.5621 - accuracy: 0.7031 - val_loss: 0.5859 - val_accuracy: 0.6896 - 11s/epoch - 23ms/step\n",
            "Epoch 28/50\n",
            "500/500 - 11s - loss: 0.5614 - accuracy: 0.7038 - val_loss: 0.5833 - val_accuracy: 0.6920 - 11s/epoch - 23ms/step\n",
            "Epoch 29/50\n",
            "500/500 - 11s - loss: 0.5611 - accuracy: 0.7013 - val_loss: 0.5820 - val_accuracy: 0.6916 - 11s/epoch - 23ms/step\n",
            "Epoch 30/50\n",
            "500/500 - 9s - loss: 0.5602 - accuracy: 0.7036 - val_loss: 0.5908 - val_accuracy: 0.6865 - 9s/epoch - 17ms/step\n",
            "Epoch 31/50\n",
            "500/500 - 9s - loss: 0.5597 - accuracy: 0.7051 - val_loss: 0.5829 - val_accuracy: 0.6920 - 9s/epoch - 17ms/step\n",
            "Epoch 32/50\n",
            "500/500 - 11s - loss: 0.5593 - accuracy: 0.7028 - val_loss: 0.5814 - val_accuracy: 0.6923 - 11s/epoch - 23ms/step\n",
            "Epoch 33/50\n",
            "500/500 - 9s - loss: 0.5590 - accuracy: 0.7056 - val_loss: 0.5832 - val_accuracy: 0.6881 - 9s/epoch - 18ms/step\n",
            "Epoch 34/50\n",
            "500/500 - 9s - loss: 0.5583 - accuracy: 0.7063 - val_loss: 0.5836 - val_accuracy: 0.6888 - 9s/epoch - 17ms/step\n",
            "Epoch 35/50\n",
            "500/500 - 9s - loss: 0.5574 - accuracy: 0.7053 - val_loss: 0.5810 - val_accuracy: 0.6928 - 9s/epoch - 17ms/step\n",
            "Epoch 36/50\n",
            "500/500 - 11s - loss: 0.5570 - accuracy: 0.7046 - val_loss: 0.5824 - val_accuracy: 0.6939 - 11s/epoch - 23ms/step\n",
            "Epoch 37/50\n",
            "500/500 - 11s - loss: 0.5568 - accuracy: 0.7046 - val_loss: 0.5837 - val_accuracy: 0.6877 - 11s/epoch - 22ms/step\n",
            "Epoch 38/50\n",
            "500/500 - 11s - loss: 0.5561 - accuracy: 0.7094 - val_loss: 0.5822 - val_accuracy: 0.6916 - 11s/epoch - 23ms/step\n",
            "Epoch 39/50\n",
            "500/500 - 11s - loss: 0.5562 - accuracy: 0.7042 - val_loss: 0.5832 - val_accuracy: 0.6888 - 11s/epoch - 23ms/step\n",
            "Epoch 40/50\n",
            "500/500 - 9s - loss: 0.5551 - accuracy: 0.7062 - val_loss: 0.5825 - val_accuracy: 0.6889 - 9s/epoch - 17ms/step\n",
            "Epoch 41/50\n",
            "500/500 - 11s - loss: 0.5541 - accuracy: 0.7089 - val_loss: 0.5822 - val_accuracy: 0.6935 - 11s/epoch - 22ms/step\n",
            "Epoch 42/50\n",
            "500/500 - 11s - loss: 0.5540 - accuracy: 0.7092 - val_loss: 0.5805 - val_accuracy: 0.6914 - 11s/epoch - 23ms/step\n",
            "Epoch 43/50\n",
            "500/500 - 9s - loss: 0.5537 - accuracy: 0.7086 - val_loss: 0.5814 - val_accuracy: 0.6919 - 9s/epoch - 17ms/step\n",
            "Epoch 44/50\n",
            "500/500 - 9s - loss: 0.5532 - accuracy: 0.7101 - val_loss: 0.5830 - val_accuracy: 0.6936 - 9s/epoch - 17ms/step\n",
            "Epoch 45/50\n",
            "500/500 - 11s - loss: 0.5526 - accuracy: 0.7106 - val_loss: 0.5816 - val_accuracy: 0.6904 - 11s/epoch - 23ms/step\n",
            "Epoch 46/50\n",
            "500/500 - 9s - loss: 0.5525 - accuracy: 0.7070 - val_loss: 0.5858 - val_accuracy: 0.6887 - 9s/epoch - 18ms/step\n",
            "Epoch 47/50\n",
            "500/500 - 11s - loss: 0.5518 - accuracy: 0.7121 - val_loss: 0.5812 - val_accuracy: 0.6934 - 11s/epoch - 23ms/step\n",
            "Epoch 48/50\n",
            "500/500 - 11s - loss: 0.5513 - accuracy: 0.7127 - val_loss: 0.5893 - val_accuracy: 0.6876 - 11s/epoch - 22ms/step\n",
            "Epoch 49/50\n",
            "500/500 - 11s - loss: 0.5507 - accuracy: 0.7112 - val_loss: 0.5853 - val_accuracy: 0.6880 - 11s/epoch - 23ms/step\n",
            "Epoch 50/50\n",
            "500/500 - 11s - loss: 0.5509 - accuracy: 0.7116 - val_loss: 0.5828 - val_accuracy: 0.6900 - 11s/epoch - 23ms/step\n",
            "Training Complete\n"
          ]
        }
      ]
    },
    {
      "cell_type": "code",
      "metadata": {
        "id": "qxju4ItJKO8F",
        "outputId": "6b4f5225-ea82-4f7c-b3e3-d3684c565bab",
        "colab": {
          "base_uri": "https://localhost:8080/",
          "height": 606
        }
      },
      "source": [
        "import matplotlib.image  as mpimg\n",
        "import matplotlib.pyplot as plt\n",
        "\n",
        "#-----------------------------------------------------------\n",
        "# Retrieve a list of list results on training and test data\n",
        "# sets for each training epoch\n",
        "#-----------------------------------------------------------\n",
        "acc=history.history['accuracy']\n",
        "val_acc=history.history['val_accuracy']\n",
        "loss=history.history['loss']\n",
        "val_loss=history.history['val_loss']\n",
        "\n",
        "epochs=range(len(acc)) # Get number of epochs\n",
        "\n",
        "#------------------------------------------------\n",
        "# Plot training and validation accuracy per epoch\n",
        "#------------------------------------------------\n",
        "plt.plot(epochs, acc, 'r')\n",
        "plt.plot(epochs, val_acc, 'b')\n",
        "plt.title('Training and validation accuracy')\n",
        "plt.xlabel(\"Epochs\")\n",
        "plt.ylabel(\"Accuracy\")\n",
        "plt.legend([\"Accuracy\", \"Validation Accuracy\"])\n",
        "\n",
        "plt.figure()\n",
        "\n",
        "#------------------------------------------------\n",
        "# Plot training and validation loss per epoch\n",
        "#------------------------------------------------\n",
        "plt.plot(epochs, loss, 'r')\n",
        "plt.plot(epochs, val_loss, 'b')\n",
        "plt.title('Training and validation loss')\n",
        "plt.xlabel(\"Epochs\")\n",
        "plt.ylabel(\"Loss\")\n",
        "plt.legend([\"Loss\", \"Validation Loss\"])\n",
        "\n",
        "plt.figure()\n",
        "\n",
        "\n",
        "# Expected Output\n",
        "# A chart where the validation loss does not increase sharply!"
      ],
      "execution_count": 49,
      "outputs": [
        {
          "output_type": "execute_result",
          "data": {
            "text/plain": [
              "<Figure size 432x288 with 0 Axes>"
            ]
          },
          "metadata": {},
          "execution_count": 49
        },
        {
          "output_type": "display_data",
          "data": {
            "image/png": "[encoded data removed]",
            "text/plain": [
              "<Figure size 432x288 with 1 Axes>"
            ]
          },
          "metadata": {
            "needs_background": "light"
          }
        },
        {
          "output_type": "display_data",
          "data": {
            "image/png": "[encoded data removed]",
            "text/plain": [
              "<Figure size 432x288 with 1 Axes>"
            ]
          },
          "metadata": {
            "needs_background": "light"
          }
        },
        {
          "output_type": "display_data",
          "data": {
            "text/plain": [
              "<Figure size 432x288 with 0 Axes>"
            ]
          },
          "metadata": {}
        }
      ]
    }
  ]
}