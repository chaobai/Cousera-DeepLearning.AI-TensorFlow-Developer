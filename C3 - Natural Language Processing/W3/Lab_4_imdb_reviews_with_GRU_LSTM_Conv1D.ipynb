{
  "nbformat": 4,
  "nbformat_minor": 0,
  "metadata": {
    "accelerator": "GPU",
    "colab": {
      "name": "C3_W3_Lab_4_imdb_reviews_with_GRU_LSTM_Conv1D.ipynb",
      "provenance": [],
      "collapsed_sections": [],
      "include_colab_link": true
    },
    "kernelspec": {
      "name": "python3",
      "display_name": "Python 3"
    },
    "language_info": {
      "name": "python"
    }
  },
  "cells": [
    {
      "cell_type": "markdown",
      "metadata": {
        "id": "view-in-github",
        "colab_type": "text"
      },
      "source": [
        "<a href=\"https://colab.research.google.com/github/chaobai/Cousera-DeepLearning.AI-TensorFlow-Developer/blob/master/C3%20-%20Natural%20Language%20Processing/W3/Lab_4_imdb_reviews_with_GRU_LSTM_Conv1D.ipynb\" target=\"_parent\"><img src=\"https://colab.research.google.com/assets/colab-badge.svg\" alt=\"Open In Colab\"/></a>"
      ]
    },
    {
      "cell_type": "code",
      "metadata": {
        "id": "P-AhVYeBWgQ3",
        "outputId": "bdfb7450-1590-4947-9d32-9c1051c8a890",
        "colab": {
          "base_uri": "https://localhost:8080/"
        }
      },
      "source": [
        "import tensorflow as tf\n",
        "print(tf.__version__)\n",
        "\n",
        "# !pip install -q tensorflow-datasets\n",
        "\n",
        "import tensorflow_datasets as tfds\n",
        "imdb, info = tfds.load(\"imdb_reviews\", with_info=True, as_supervised=True)"
      ],
      "execution_count": 2,
      "outputs": [
        {
          "output_type": "stream",
          "name": "stdout",
          "text": [
            "2.6.0\n"
          ]
        }
      ]
    },
    {
      "cell_type": "code",
      "metadata": {
        "id": "wHQ2Ko0zl7M4"
      },
      "source": [
        "import numpy as np\n",
        "\n",
        "train_data, test_data = imdb['train'], imdb['test']\n",
        "\n",
        "training_sentences = []\n",
        "training_labels = []\n",
        "\n",
        "testing_sentences = []\n",
        "testing_labels = []\n",
        "\n",
        "# str(s.tonumpy()) is needed in Python3 instead of just s.numpy()\n",
        "for s,l in train_data:\n",
        "  training_sentences.append(str(s.numpy()))\n",
        "  training_labels.append(l.numpy())\n",
        "  \n",
        "for s,l in test_data:\n",
        "  testing_sentences.append(str(s.numpy()))\n",
        "  testing_labels.append(l.numpy())\n",
        "  \n",
        "training_labels_final = np.array(training_labels)\n",
        "testing_labels_final = np.array(testing_labels)\n"
      ],
      "execution_count": 3,
      "outputs": []
    },
    {
      "cell_type": "code",
      "metadata": {
        "id": "7n15yyMdmoH1"
      },
      "source": [
        "vocab_size = 10000\n",
        "embedding_dim = 16\n",
        "max_length = 120\n",
        "trunc_type='post'\n",
        "oov_tok = \"<OOV>\"\n",
        "\n",
        "\n",
        "from tensorflow.keras.preprocessing.text import Tokenizer\n",
        "from tensorflow.keras.preprocessing.sequence import pad_sequences\n",
        "\n",
        "tokenizer = Tokenizer(num_words = vocab_size, oov_token=oov_tok)\n",
        "tokenizer.fit_on_texts(training_sentences)\n",
        "word_index = tokenizer.word_index\n",
        "sequences = tokenizer.texts_to_sequences(training_sentences)\n",
        "padded = pad_sequences(sequences,maxlen=max_length, truncating=trunc_type)\n",
        "\n",
        "testing_sequences = tokenizer.texts_to_sequences(testing_sentences)\n",
        "testing_padded = pad_sequences(testing_sequences,maxlen=max_length)\n"
      ],
      "execution_count": 4,
      "outputs": []
    },
    {
      "cell_type": "code",
      "metadata": {
        "id": "9axf0uIXVMhO",
        "outputId": "fdf8bb2e-a4be-4a07-b2e8-8c19ac6d1182",
        "colab": {
          "base_uri": "https://localhost:8080/"
        }
      },
      "source": [
        "reverse_word_index = dict([(value, key) for (key, value) in word_index.items()])\n",
        "\n",
        "def decode_review(text):\n",
        "    return ' '.join([reverse_word_index.get(i, '?') for i in text])\n",
        "\n",
        "print(decode_review(padded[1]))\n",
        "print(training_sentences[1])"
      ],
      "execution_count": 5,
      "outputs": [
        {
          "output_type": "stream",
          "name": "stdout",
          "text": [
            "? ? ? ? ? ? ? b'i have been known to fall asleep during films but this is usually due to a combination of things including really tired being warm and comfortable on the <OOV> and having just eaten a lot however on this occasion i fell asleep because the film was rubbish the plot development was constant constantly slow and boring things seemed to happen but with no explanation of what was causing them or why i admit i may have missed part of the film but i watched the majority of it and everything just seemed to happen of its own <OOV> without any real concern for anything else i cant recommend this film at all '\n",
            "b'I have been known to fall asleep during films, but this is usually due to a combination of things including, really tired, being warm and comfortable on the sette and having just eaten a lot. However on this occasion I fell asleep because the film was rubbish. The plot development was constant. Constantly slow and boring. Things seemed to happen, but with no explanation of what was causing them or why. I admit, I may have missed part of the film, but i watched the majority of it and everything just seemed to happen of its own accord without any real concern for anything else. I cant recommend this film at all.'\n"
          ]
        }
      ]
    },
    {
      "cell_type": "code",
      "metadata": {
        "id": "5NEpdhb8AxID",
        "outputId": "ed777478-1683-448e-8dd3-2becffee058c",
        "colab": {
          "base_uri": "https://localhost:8080/"
        }
      },
      "source": [
        "model = tf.keras.Sequential([\n",
        "    tf.keras.layers.Embedding(vocab_size, embedding_dim, input_length=max_length),\n",
        "    tf.keras.layers.Bidirectional(tf.keras.layers.GRU(32)),\n",
        "    tf.keras.layers.Dense(6, activation='relu'),\n",
        "    tf.keras.layers.Dense(1, activation='sigmoid')\n",
        "])\n",
        "model.compile(loss='binary_crossentropy',optimizer='adam',metrics=['accuracy'])\n",
        "model.summary()\n"
      ],
      "execution_count": 6,
      "outputs": [
        {
          "output_type": "stream",
          "name": "stdout",
          "text": [
            "Model: \"sequential\"\n",
            "_________________________________________________________________\n",
            "Layer (type)                 Output Shape              Param #   \n",
            "=================================================================\n",
            "embedding (Embedding)        (None, 120, 16)           160000    \n",
            "_________________________________________________________________\n",
            "bidirectional (Bidirectional (None, 64)                9600      \n",
            "_________________________________________________________________\n",
            "dense (Dense)                (None, 6)                 390       \n",
            "_________________________________________________________________\n",
            "dense_1 (Dense)              (None, 1)                 7         \n",
            "=================================================================\n",
            "Total params: 169,997\n",
            "Trainable params: 169,997\n",
            "Non-trainable params: 0\n",
            "_________________________________________________________________\n"
          ]
        }
      ]
    },
    {
      "cell_type": "code",
      "metadata": {
        "id": "V5LLrXC-uNX6",
        "outputId": "ae3b104d-7e64-4328-f60f-6f7c1de41300",
        "colab": {
          "base_uri": "https://localhost:8080/"
        }
      },
      "source": [
        "num_epochs = 50\n",
        "history = model.fit(padded, training_labels_final, epochs=num_epochs, validation_data=(testing_padded, testing_labels_final))"
      ],
      "execution_count": 7,
      "outputs": [
        {
          "output_type": "stream",
          "name": "stdout",
          "text": [
            "Epoch 1/50\n",
            "782/782 [==============================] - 21s 18ms/step - loss: 0.5179 - accuracy: 0.7276 - val_loss: 0.3943 - val_accuracy: 0.8167\n",
            "Epoch 2/50\n",
            "782/782 [==============================] - 14s 18ms/step - loss: 0.3077 - accuracy: 0.8759 - val_loss: 0.3534 - val_accuracy: 0.8499\n",
            "Epoch 3/50\n",
            "782/782 [==============================] - 14s 18ms/step - loss: 0.2398 - accuracy: 0.9082 - val_loss: 0.3913 - val_accuracy: 0.8384\n",
            "Epoch 4/50\n",
            "782/782 [==============================] - 14s 17ms/step - loss: 0.1919 - accuracy: 0.9286 - val_loss: 0.4145 - val_accuracy: 0.8274\n",
            "Epoch 5/50\n",
            "782/782 [==============================] - 14s 17ms/step - loss: 0.1537 - accuracy: 0.9442 - val_loss: 0.5038 - val_accuracy: 0.8293\n",
            "Epoch 6/50\n",
            "782/782 [==============================] - 13s 17ms/step - loss: 0.1172 - accuracy: 0.9592 - val_loss: 0.5811 - val_accuracy: 0.8279\n",
            "Epoch 7/50\n",
            "782/782 [==============================] - 14s 18ms/step - loss: 0.0815 - accuracy: 0.9727 - val_loss: 0.7522 - val_accuracy: 0.8218\n",
            "Epoch 8/50\n",
            "782/782 [==============================] - 14s 18ms/step - loss: 0.0594 - accuracy: 0.9796 - val_loss: 0.7416 - val_accuracy: 0.8170\n",
            "Epoch 9/50\n",
            "782/782 [==============================] - 14s 18ms/step - loss: 0.0418 - accuracy: 0.9867 - val_loss: 0.8952 - val_accuracy: 0.8193\n",
            "Epoch 10/50\n",
            "782/782 [==============================] - 14s 18ms/step - loss: 0.0348 - accuracy: 0.9885 - val_loss: 0.8780 - val_accuracy: 0.8153\n",
            "Epoch 11/50\n",
            "782/782 [==============================] - 14s 18ms/step - loss: 0.0238 - accuracy: 0.9927 - val_loss: 1.0588 - val_accuracy: 0.8156\n",
            "Epoch 12/50\n",
            "782/782 [==============================] - 14s 18ms/step - loss: 0.0156 - accuracy: 0.9951 - val_loss: 1.0937 - val_accuracy: 0.8195\n",
            "Epoch 13/50\n",
            "782/782 [==============================] - 14s 17ms/step - loss: 0.0167 - accuracy: 0.9939 - val_loss: 1.0830 - val_accuracy: 0.8090\n",
            "Epoch 14/50\n",
            "782/782 [==============================] - 14s 18ms/step - loss: 0.0183 - accuracy: 0.9936 - val_loss: 1.0864 - val_accuracy: 0.8152\n",
            "Epoch 15/50\n",
            "782/782 [==============================] - 14s 18ms/step - loss: 0.0129 - accuracy: 0.9955 - val_loss: 1.2247 - val_accuracy: 0.8064\n",
            "Epoch 16/50\n",
            "782/782 [==============================] - 14s 18ms/step - loss: 0.0084 - accuracy: 0.9973 - val_loss: 1.3008 - val_accuracy: 0.8144\n",
            "Epoch 17/50\n",
            "782/782 [==============================] - 14s 18ms/step - loss: 0.0060 - accuracy: 0.9980 - val_loss: 1.4241 - val_accuracy: 0.8182\n",
            "Epoch 18/50\n",
            "782/782 [==============================] - 14s 18ms/step - loss: 0.0128 - accuracy: 0.9958 - val_loss: 1.3040 - val_accuracy: 0.8204\n",
            "Epoch 19/50\n",
            "782/782 [==============================] - 14s 18ms/step - loss: 0.0059 - accuracy: 0.9980 - val_loss: 1.3915 - val_accuracy: 0.8144\n",
            "Epoch 20/50\n",
            "782/782 [==============================] - 14s 18ms/step - loss: 0.0041 - accuracy: 0.9988 - val_loss: 1.3931 - val_accuracy: 0.8124\n",
            "Epoch 21/50\n",
            "782/782 [==============================] - 14s 18ms/step - loss: 0.0066 - accuracy: 0.9978 - val_loss: 1.3129 - val_accuracy: 0.8157\n",
            "Epoch 22/50\n",
            "782/782 [==============================] - 14s 18ms/step - loss: 0.0085 - accuracy: 0.9973 - val_loss: 1.4020 - val_accuracy: 0.8108\n",
            "Epoch 23/50\n",
            "782/782 [==============================] - 14s 18ms/step - loss: 0.0080 - accuracy: 0.9972 - val_loss: 1.4096 - val_accuracy: 0.8152\n",
            "Epoch 24/50\n",
            "782/782 [==============================] - 14s 18ms/step - loss: 0.0071 - accuracy: 0.9975 - val_loss: 1.3629 - val_accuracy: 0.8126\n",
            "Epoch 25/50\n",
            "782/782 [==============================] - 14s 18ms/step - loss: 0.0037 - accuracy: 0.9986 - val_loss: 1.3763 - val_accuracy: 0.8113\n",
            "Epoch 26/50\n",
            "782/782 [==============================] - 14s 18ms/step - loss: 0.0014 - accuracy: 0.9996 - val_loss: 1.6446 - val_accuracy: 0.8130\n",
            "Epoch 27/50\n",
            "782/782 [==============================] - 14s 18ms/step - loss: 0.0053 - accuracy: 0.9982 - val_loss: 1.3874 - val_accuracy: 0.8122\n",
            "Epoch 28/50\n",
            "782/782 [==============================] - 14s 18ms/step - loss: 0.0125 - accuracy: 0.9959 - val_loss: 1.3424 - val_accuracy: 0.8077\n",
            "Epoch 29/50\n",
            "782/782 [==============================] - 14s 18ms/step - loss: 0.0028 - accuracy: 0.9991 - val_loss: 1.3865 - val_accuracy: 0.8095\n",
            "Epoch 30/50\n",
            "782/782 [==============================] - 14s 18ms/step - loss: 0.0011 - accuracy: 0.9997 - val_loss: 1.5381 - val_accuracy: 0.8116\n",
            "Epoch 31/50\n",
            "782/782 [==============================] - 14s 18ms/step - loss: 1.4063e-04 - accuracy: 1.0000 - val_loss: 1.6359 - val_accuracy: 0.8126\n",
            "Epoch 32/50\n",
            "782/782 [==============================] - 14s 18ms/step - loss: 3.8626e-05 - accuracy: 1.0000 - val_loss: 1.7005 - val_accuracy: 0.8134\n",
            "Epoch 33/50\n",
            "782/782 [==============================] - 14s 18ms/step - loss: 2.4326e-05 - accuracy: 1.0000 - val_loss: 1.7626 - val_accuracy: 0.8129\n",
            "Epoch 34/50\n",
            "782/782 [==============================] - 14s 18ms/step - loss: 1.6244e-05 - accuracy: 1.0000 - val_loss: 1.8251 - val_accuracy: 0.8136\n",
            "Epoch 35/50\n",
            "782/782 [==============================] - 14s 18ms/step - loss: 1.0910e-05 - accuracy: 1.0000 - val_loss: 1.8894 - val_accuracy: 0.8143\n",
            "Epoch 36/50\n",
            "782/782 [==============================] - 14s 18ms/step - loss: 7.2874e-06 - accuracy: 1.0000 - val_loss: 1.9558 - val_accuracy: 0.8138\n",
            "Epoch 37/50\n",
            "782/782 [==============================] - 14s 18ms/step - loss: 4.8483e-06 - accuracy: 1.0000 - val_loss: 2.0190 - val_accuracy: 0.8133\n",
            "Epoch 38/50\n",
            "782/782 [==============================] - 15s 19ms/step - loss: 3.2046e-06 - accuracy: 1.0000 - val_loss: 2.0873 - val_accuracy: 0.8134\n",
            "Epoch 39/50\n",
            "782/782 [==============================] - 14s 17ms/step - loss: 2.1116e-06 - accuracy: 1.0000 - val_loss: 2.1533 - val_accuracy: 0.8128\n",
            "Epoch 40/50\n",
            "782/782 [==============================] - 14s 18ms/step - loss: 1.3809e-06 - accuracy: 1.0000 - val_loss: 2.2195 - val_accuracy: 0.8125\n",
            "Epoch 41/50\n",
            "782/782 [==============================] - 14s 18ms/step - loss: 9.0128e-07 - accuracy: 1.0000 - val_loss: 2.2897 - val_accuracy: 0.8130\n",
            "Epoch 42/50\n",
            "782/782 [==============================] - 14s 18ms/step - loss: 5.8807e-07 - accuracy: 1.0000 - val_loss: 2.3578 - val_accuracy: 0.8125\n",
            "Epoch 43/50\n",
            "782/782 [==============================] - 14s 18ms/step - loss: 3.8306e-07 - accuracy: 1.0000 - val_loss: 2.4274 - val_accuracy: 0.8122\n",
            "Epoch 44/50\n",
            "782/782 [==============================] - 14s 18ms/step - loss: 2.5030e-07 - accuracy: 1.0000 - val_loss: 2.4972 - val_accuracy: 0.8119\n",
            "Epoch 45/50\n",
            "782/782 [==============================] - 14s 18ms/step - loss: 1.6370e-07 - accuracy: 1.0000 - val_loss: 2.5660 - val_accuracy: 0.8123\n",
            "Epoch 46/50\n",
            "782/782 [==============================] - 14s 18ms/step - loss: 1.0758e-07 - accuracy: 1.0000 - val_loss: 2.6350 - val_accuracy: 0.8116\n",
            "Epoch 47/50\n",
            "782/782 [==============================] - 14s 18ms/step - loss: 7.1091e-08 - accuracy: 1.0000 - val_loss: 2.7053 - val_accuracy: 0.8114\n",
            "Epoch 48/50\n",
            "782/782 [==============================] - 14s 18ms/step - loss: 4.7110e-08 - accuracy: 1.0000 - val_loss: 2.7734 - val_accuracy: 0.8110\n",
            "Epoch 49/50\n",
            "782/782 [==============================] - 14s 18ms/step - loss: 3.1485e-08 - accuracy: 1.0000 - val_loss: 2.8378 - val_accuracy: 0.8113\n",
            "Epoch 50/50\n",
            "782/782 [==============================] - 14s 18ms/step - loss: 2.1244e-08 - accuracy: 1.0000 - val_loss: 2.8996 - val_accuracy: 0.8113\n"
          ]
        }
      ]
    },
    {
      "cell_type": "code",
      "metadata": {
        "id": "nHGYuU4jPYaj",
        "outputId": "a38d5bb0-a47e-4d2f-efff-4dc9a3589fc9",
        "colab": {
          "base_uri": "https://localhost:8080/",
          "height": 542
        }
      },
      "source": [
        "import matplotlib.pyplot as plt\n",
        "\n",
        "\n",
        "def plot_graphs(history, string):\n",
        "  plt.plot(history.history[string])\n",
        "  plt.plot(history.history['val_'+string])\n",
        "  plt.xlabel(\"Epochs\")\n",
        "  plt.ylabel(string)\n",
        "  plt.legend([string, 'val_'+string])\n",
        "  plt.show()\n",
        "\n",
        "plot_graphs(history, 'accuracy')\n",
        "plot_graphs(history, 'loss')"
      ],
      "execution_count": 8,
      "outputs": [
        {
          "output_type": "display_data",
          "data": {
            "image/png": "[encoded data removed]",
            "text/plain": [
              "<Figure size 432x288 with 1 Axes>"
            ]
          },
          "metadata": {
            "needs_background": "light"
          }
        },
        {
          "output_type": "display_data",
          "data": {
            "image/png": "[encoded data removed]",
            "text/plain": [
              "<Figure size 432x288 with 1 Axes>"
            ]
          },
          "metadata": {
            "needs_background": "light"
          }
        }
      ]
    },
    {
      "cell_type": "code",
      "metadata": {
        "id": "wSualgGPPK0S",
        "outputId": "c631156d-9ea8-46d1-d40d-8215dc16ad33",
        "colab": {
          "base_uri": "https://localhost:8080/"
        }
      },
      "source": [
        "# Model Definition with LSTM\n",
        "model = tf.keras.Sequential([\n",
        "    tf.keras.layers.Embedding(vocab_size, embedding_dim, input_length=max_length),\n",
        "    tf.keras.layers.Bidirectional(tf.keras.layers.LSTM(32)),\n",
        "    tf.keras.layers.Dense(6, activation='relu'),\n",
        "    tf.keras.layers.Dense(1, activation='sigmoid')\n",
        "])\n",
        "model.compile(loss='binary_crossentropy',optimizer='adam',metrics=['accuracy'])\n",
        "model.summary()\n"
      ],
      "execution_count": 9,
      "outputs": [
        {
          "output_type": "stream",
          "name": "stdout",
          "text": [
            "Model: \"sequential_1\"\n",
            "_________________________________________________________________\n",
            "Layer (type)                 Output Shape              Param #   \n",
            "=================================================================\n",
            "embedding_1 (Embedding)      (None, 120, 16)           160000    \n",
            "_________________________________________________________________\n",
            "bidirectional_1 (Bidirection (None, 64)                12544     \n",
            "_________________________________________________________________\n",
            "dense_2 (Dense)              (None, 6)                 390       \n",
            "_________________________________________________________________\n",
            "dense_3 (Dense)              (None, 1)                 7         \n",
            "=================================================================\n",
            "Total params: 172,941\n",
            "Trainable params: 172,941\n",
            "Non-trainable params: 0\n",
            "_________________________________________________________________\n"
          ]
        }
      ]
    },
    {
      "cell_type": "code",
      "metadata": {
        "id": "K_Jc7cY3Qxke",
        "outputId": "b605f5f8-4777-46ad-a137-de49d9bd26d1",
        "colab": {
          "base_uri": "https://localhost:8080/"
        }
      },
      "source": [
        "# Model Definition with Conv1D\n",
        "model = tf.keras.Sequential([\n",
        "    tf.keras.layers.Embedding(vocab_size, embedding_dim, input_length=max_length),\n",
        "    tf.keras.layers.Conv1D(128, 5, activation='relu'),\n",
        "    tf.keras.layers.GlobalAveragePooling1D(),\n",
        "    tf.keras.layers.Dense(6, activation='relu'),\n",
        "    tf.keras.layers.Dense(1, activation='sigmoid')\n",
        "])\n",
        "model.compile(loss='binary_crossentropy',optimizer='adam',metrics=['accuracy'])\n",
        "model.summary()\n"
      ],
      "execution_count": 10,
      "outputs": [
        {
          "output_type": "stream",
          "name": "stdout",
          "text": [
            "Model: \"sequential_2\"\n",
            "_________________________________________________________________\n",
            "Layer (type)                 Output Shape              Param #   \n",
            "=================================================================\n",
            "embedding_2 (Embedding)      (None, 120, 16)           160000    \n",
            "_________________________________________________________________\n",
            "conv1d (Conv1D)              (None, 116, 128)          10368     \n",
            "_________________________________________________________________\n",
            "global_average_pooling1d (Gl (None, 128)               0         \n",
            "_________________________________________________________________\n",
            "dense_4 (Dense)              (None, 6)                 774       \n",
            "_________________________________________________________________\n",
            "dense_5 (Dense)              (None, 1)                 7         \n",
            "=================================================================\n",
            "Total params: 171,149\n",
            "Trainable params: 171,149\n",
            "Non-trainable params: 0\n",
            "_________________________________________________________________\n"
          ]
        }
      ]
    }
  ]
}