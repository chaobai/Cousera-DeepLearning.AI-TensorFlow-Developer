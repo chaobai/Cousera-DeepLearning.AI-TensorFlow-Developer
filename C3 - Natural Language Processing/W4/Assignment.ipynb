{
  "nbformat": 4,
  "nbformat_minor": 0,
  "metadata": {
    "accelerator": "GPU",
    "colab": {
      "name": "C3_W4_Assignment.ipynb",
      "provenance": [],
      "include_colab_link": true
    },
    "kernelspec": {
      "display_name": "Python 3",
      "language": "python",
      "name": "python3"
    },
    "language_info": {
      "codemirror_mode": {
        "name": "ipython",
        "version": 3
      },
      "file_extension": ".py",
      "mimetype": "text/x-python",
      "name": "python",
      "nbconvert_exporter": "python",
      "pygments_lexer": "ipython3",
      "version": "3.8.5"
    }
  },
  "cells": [
    {
      "cell_type": "markdown",
      "metadata": {
        "id": "view-in-github",
        "colab_type": "text"
      },
      "source": [
        "<a href=\"https://colab.research.google.com/github/chaobai/Cousera-DeepLearning.AI-TensorFlow-Developer/blob/master/C3%20-%20Natural%20Language%20Processing/W4/Assignment.ipynb\" target=\"_parent\"><img src=\"https://colab.research.google.com/assets/colab-badge.svg\" alt=\"Open In Colab\"/></a>"
      ]
    },
    {
      "cell_type": "code",
      "metadata": {
        "id": "T2XpcPvbXalN"
      },
      "source": [
        "#@title Licensed under the Apache License, Version 2.0 (the \"License\");\n",
        "# you may not use this file except in compliance with the License.\n",
        "# You may obtain a copy of the License at\n",
        "#\n",
        "# https://www.apache.org/licenses/LICENSE-2.0\n",
        "#\n",
        "# Unless required by applicable law or agreed to in writing, software\n",
        "# distributed under the License is distributed on an \"AS IS\" BASIS,\n",
        "# WITHOUT WARRANTIES OR CONDITIONS OF ANY KIND, either express or implied.\n",
        "# See the License for the specific language governing permissions and\n",
        "# limitations under the License."
      ],
      "execution_count": 17,
      "outputs": []
    },
    {
      "cell_type": "markdown",
      "metadata": {
        "id": "eK88h3Y5XalO"
      },
      "source": [
        "**Note:** This notebook can run using TensorFlow 2.5.0"
      ]
    },
    {
      "cell_type": "code",
      "metadata": {
        "id": "zX4Kg8DUTKWO"
      },
      "source": [
        "#!pip install tensorflow==2.5.0"
      ],
      "execution_count": 18,
      "outputs": []
    },
    {
      "cell_type": "code",
      "metadata": {
        "id": "BOwsuGQQY9OL"
      },
      "source": [
        "from tensorflow.keras.preprocessing.sequence import pad_sequences\n",
        "from tensorflow.keras.layers import Embedding, LSTM, Dense, Dropout, Bidirectional\n",
        "from tensorflow.keras.preprocessing.text import Tokenizer\n",
        "from tensorflow.keras.models import Sequential\n",
        "from tensorflow.keras.optimizers import Adam\n",
        "### YOUR CODE HERE\n",
        "# Figure out how to import regularizers\n",
        "###\n",
        "import tensorflow.keras.utils as ku \n",
        "import numpy as np \n",
        "import tensorflow as tf"
      ],
      "execution_count": 19,
      "outputs": []
    },
    {
      "cell_type": "code",
      "metadata": {
        "id": "PRnDnCW-Z7qv",
        "outputId": "6e8a2351-4845-411c-b4ec-9723ce30f075",
        "colab": {
          "base_uri": "https://localhost:8080/"
        }
      },
      "source": [
        "tokenizer = Tokenizer()\n",
        "\n",
        "# sonnets.txt\n",
        "!gdown --id 108jAePKK4R3BVYBbYJZ32JWUwxeMg20K\n",
        "\n",
        "data = open('./sonnets.txt').read()\n",
        "\n",
        "corpus = data.lower().split(\"\\n\")\n",
        "\n",
        "\n",
        "tokenizer.fit_on_texts(corpus)\n",
        "total_words = len(tokenizer.word_index) + 1\n",
        "\n",
        "# create input sequences using list of tokens\n",
        "input_sequences = []\n",
        "for line in corpus:\n",
        "\ttoken_list = tokenizer.texts_to_sequences([line])[0]\n",
        "\tfor i in range(1, len(token_list)):\n",
        "\t\tn_gram_sequence = token_list[:i+1]\n",
        "\t\tinput_sequences.append(n_gram_sequence)\n",
        "\n",
        "\n",
        "# pad sequences \n",
        "max_sequence_len = max([len(x) for x in input_sequences])\n",
        "input_sequences = np.array(pad_sequences(input_sequences, maxlen=max_sequence_len, padding='pre'))\n",
        "\n",
        "# create predictors and label\n",
        "predictors, label = input_sequences[:,:-1],input_sequences[:,-1]\n",
        "\n",
        "label = ku.to_categorical(label, num_classes=total_words)"
      ],
      "execution_count": 20,
      "outputs": [
        {
          "output_type": "stream",
          "name": "stdout",
          "text": [
            "Downloading...\n",
            "From: https://drive.google.com/uc?id=108jAePKK4R3BVYBbYJZ32JWUwxeMg20K\n",
            "To: /content/sonnets.txt\n",
            "\r  0% 0.00/93.6k [00:00<?, ?B/s]\r100% 93.6k/93.6k [00:00<00:00, 34.6MB/s]\n"
          ]
        }
      ]
    },
    {
      "cell_type": "code",
      "metadata": {
        "id": "w9vH8Y59ajYL",
        "outputId": "fc1f6a92-ae1a-40d5-a3b8-e7dc61197d4b",
        "colab": {
          "base_uri": "https://localhost:8080/"
        }
      },
      "source": [
        "### START CODE HERE\n",
        "model = Sequential()\n",
        "model.add(Embedding(total_words, 100, input_length=max_sequence_len-1))\n",
        "model.add(Bidirectional(LSTM(150, return_sequences=True)))\n",
        "model.add(Dropout(0.2))\n",
        "model.add(Bidirectional(LSTM(100)))\n",
        "model.add(Dense(total_words/2, activation='relu', kernel_regularizer=tf.keras.regularizers.l2(0.01)))\n",
        "model.add(Dense(total_words, activation='softmax'))\n",
        "# Pick an optimizer\n",
        "model.compile(optimizer=tf.optimizers.Adam(), loss=tf.losses.CategoricalCrossentropy(), metrics=['accuracy'])\n",
        "### END CODE HERE\n",
        "    \n",
        "print(model.summary())"
      ],
      "execution_count": 25,
      "outputs": [
        {
          "output_type": "stream",
          "name": "stdout",
          "text": [
            "Model: \"sequential_13\"\n",
            "_________________________________________________________________\n",
            " Layer (type)                Output Shape              Param #   \n",
            "=================================================================\n",
            " embedding_11 (Embedding)    (None, 10, 100)           321100    \n",
            "                                                                 \n",
            " bidirectional_18 (Bidirecti  (None, 10, 300)          301200    \n",
            " onal)                                                           \n",
            "                                                                 \n",
            " dropout_10 (Dropout)        (None, 10, 300)           0         \n",
            "                                                                 \n",
            " bidirectional_19 (Bidirecti  (None, 200)              320800    \n",
            " onal)                                                           \n",
            "                                                                 \n",
            " dense_14 (Dense)            (None, 1605)              322605    \n",
            "                                                                 \n",
            " dense_15 (Dense)            (None, 3211)              5156866   \n",
            "                                                                 \n",
            "=================================================================\n",
            "Total params: 6,422,571\n",
            "Trainable params: 6,422,571\n",
            "Non-trainable params: 0\n",
            "_________________________________________________________________\n",
            "None\n"
          ]
        }
      ]
    },
    {
      "cell_type": "code",
      "metadata": {
        "id": "AIg2f1HBxqof",
        "outputId": "d7edcda7-2db6-446b-970c-1c27b1941aa7",
        "colab": {
          "base_uri": "https://localhost:8080/"
        }
      },
      "source": [
        " history = model.fit(predictors, label, epochs=100, verbose=1)"
      ],
      "execution_count": 26,
      "outputs": [
        {
          "output_type": "stream",
          "name": "stdout",
          "text": [
            "Epoch 1/100\n",
            "484/484 [==============================] - 10s 11ms/step - loss: 6.9824 - accuracy: 0.0218\n",
            "Epoch 2/100\n",
            "484/484 [==============================] - 5s 11ms/step - loss: 6.5041 - accuracy: 0.0237\n",
            "Epoch 3/100\n",
            "484/484 [==============================] - 5s 10ms/step - loss: 6.4064 - accuracy: 0.0252\n",
            "Epoch 4/100\n",
            "484/484 [==============================] - 5s 10ms/step - loss: 6.2790 - accuracy: 0.0310\n",
            "Epoch 5/100\n",
            "484/484 [==============================] - 5s 10ms/step - loss: 6.1717 - accuracy: 0.0367\n",
            "Epoch 6/100\n",
            "484/484 [==============================] - 5s 10ms/step - loss: 6.0784 - accuracy: 0.0408\n",
            "Epoch 7/100\n",
            "484/484 [==============================] - 5s 11ms/step - loss: 5.9860 - accuracy: 0.0406\n",
            "Epoch 8/100\n",
            "484/484 [==============================] - 5s 11ms/step - loss: 5.8797 - accuracy: 0.0457\n",
            "Epoch 9/100\n",
            "484/484 [==============================] - 5s 11ms/step - loss: 5.7564 - accuracy: 0.0539\n",
            "Epoch 10/100\n",
            "484/484 [==============================] - 5s 11ms/step - loss: 5.6325 - accuracy: 0.0635\n",
            "Epoch 11/100\n",
            "484/484 [==============================] - 5s 10ms/step - loss: 5.5120 - accuracy: 0.0682\n",
            "Epoch 12/100\n",
            "484/484 [==============================] - 5s 11ms/step - loss: 5.3938 - accuracy: 0.0761\n",
            "Epoch 13/100\n",
            "484/484 [==============================] - 5s 11ms/step - loss: 5.2697 - accuracy: 0.0835\n",
            "Epoch 14/100\n",
            "484/484 [==============================] - 5s 10ms/step - loss: 5.1574 - accuracy: 0.0921\n",
            "Epoch 15/100\n",
            "484/484 [==============================] - 5s 11ms/step - loss: 5.0370 - accuracy: 0.1028\n",
            "Epoch 16/100\n",
            "484/484 [==============================] - 5s 11ms/step - loss: 4.9301 - accuracy: 0.1104\n",
            "Epoch 17/100\n",
            "484/484 [==============================] - 5s 11ms/step - loss: 4.8113 - accuracy: 0.1198\n",
            "Epoch 18/100\n",
            "484/484 [==============================] - 5s 10ms/step - loss: 4.6941 - accuracy: 0.1308\n",
            "Epoch 19/100\n",
            "484/484 [==============================] - 5s 11ms/step - loss: 4.5749 - accuracy: 0.1400\n",
            "Epoch 20/100\n",
            "484/484 [==============================] - 5s 11ms/step - loss: 4.4538 - accuracy: 0.1539\n",
            "Epoch 21/100\n",
            "484/484 [==============================] - 5s 11ms/step - loss: 4.3460 - accuracy: 0.1619\n",
            "Epoch 22/100\n",
            "484/484 [==============================] - 5s 10ms/step - loss: 4.2247 - accuracy: 0.1748\n",
            "Epoch 23/100\n",
            "484/484 [==============================] - 5s 10ms/step - loss: 4.1059 - accuracy: 0.1885\n",
            "Epoch 24/100\n",
            "484/484 [==============================] - 5s 11ms/step - loss: 3.9923 - accuracy: 0.2060\n",
            "Epoch 25/100\n",
            "484/484 [==============================] - 5s 11ms/step - loss: 3.8852 - accuracy: 0.2213\n",
            "Epoch 26/100\n",
            "484/484 [==============================] - 5s 11ms/step - loss: 3.7708 - accuracy: 0.2409\n",
            "Epoch 27/100\n",
            "484/484 [==============================] - 5s 10ms/step - loss: 3.6583 - accuracy: 0.2613\n",
            "Epoch 28/100\n",
            "484/484 [==============================] - 5s 11ms/step - loss: 3.5553 - accuracy: 0.2856\n",
            "Epoch 29/100\n",
            "484/484 [==============================] - 5s 11ms/step - loss: 3.4533 - accuracy: 0.3080\n",
            "Epoch 30/100\n",
            "484/484 [==============================] - 5s 10ms/step - loss: 3.3461 - accuracy: 0.3302\n",
            "Epoch 31/100\n",
            "484/484 [==============================] - 5s 11ms/step - loss: 3.2605 - accuracy: 0.3515\n",
            "Epoch 32/100\n",
            "484/484 [==============================] - 5s 11ms/step - loss: 3.1690 - accuracy: 0.3709\n",
            "Epoch 33/100\n",
            "484/484 [==============================] - 5s 11ms/step - loss: 3.0815 - accuracy: 0.3897\n",
            "Epoch 34/100\n",
            "484/484 [==============================] - 5s 11ms/step - loss: 2.9843 - accuracy: 0.4141\n",
            "Epoch 35/100\n",
            "484/484 [==============================] - 5s 11ms/step - loss: 2.9066 - accuracy: 0.4294\n",
            "Epoch 36/100\n",
            "484/484 [==============================] - 5s 11ms/step - loss: 2.8132 - accuracy: 0.4489\n",
            "Epoch 37/100\n",
            "484/484 [==============================] - 5s 10ms/step - loss: 2.7547 - accuracy: 0.4637\n",
            "Epoch 38/100\n",
            "484/484 [==============================] - 5s 11ms/step - loss: 2.6735 - accuracy: 0.4834\n",
            "Epoch 39/100\n",
            "484/484 [==============================] - 5s 11ms/step - loss: 2.6036 - accuracy: 0.4986\n",
            "Epoch 40/100\n",
            "484/484 [==============================] - 5s 11ms/step - loss: 2.5270 - accuracy: 0.5144\n",
            "Epoch 41/100\n",
            "484/484 [==============================] - 5s 11ms/step - loss: 2.4611 - accuracy: 0.5323\n",
            "Epoch 42/100\n",
            "484/484 [==============================] - 5s 11ms/step - loss: 2.4027 - accuracy: 0.5451\n",
            "Epoch 43/100\n",
            "484/484 [==============================] - 5s 11ms/step - loss: 2.3399 - accuracy: 0.5607\n",
            "Epoch 44/100\n",
            "484/484 [==============================] - 5s 11ms/step - loss: 2.2824 - accuracy: 0.5727\n",
            "Epoch 45/100\n",
            "484/484 [==============================] - 5s 11ms/step - loss: 2.2334 - accuracy: 0.5852\n",
            "Epoch 46/100\n",
            "484/484 [==============================] - 5s 10ms/step - loss: 2.1764 - accuracy: 0.5956\n",
            "Epoch 47/100\n",
            "484/484 [==============================] - 5s 10ms/step - loss: 2.1079 - accuracy: 0.6117\n",
            "Epoch 48/100\n",
            "484/484 [==============================] - 5s 11ms/step - loss: 2.0589 - accuracy: 0.6293\n",
            "Epoch 49/100\n",
            "484/484 [==============================] - 5s 11ms/step - loss: 2.0092 - accuracy: 0.6362\n",
            "Epoch 50/100\n",
            "484/484 [==============================] - 5s 10ms/step - loss: 1.9665 - accuracy: 0.6469\n",
            "Epoch 51/100\n",
            "484/484 [==============================] - 5s 10ms/step - loss: 1.9264 - accuracy: 0.6570\n",
            "Epoch 52/100\n",
            "484/484 [==============================] - 5s 11ms/step - loss: 1.8892 - accuracy: 0.6635\n",
            "Epoch 53/100\n",
            "484/484 [==============================] - 5s 11ms/step - loss: 1.8417 - accuracy: 0.6762\n",
            "Epoch 54/100\n",
            "484/484 [==============================] - 5s 11ms/step - loss: 1.8037 - accuracy: 0.6823\n",
            "Epoch 55/100\n",
            "484/484 [==============================] - 5s 11ms/step - loss: 1.7606 - accuracy: 0.6916\n",
            "Epoch 56/100\n",
            "484/484 [==============================] - 5s 11ms/step - loss: 1.7274 - accuracy: 0.6995\n",
            "Epoch 57/100\n",
            "484/484 [==============================] - 5s 11ms/step - loss: 1.6753 - accuracy: 0.7094\n",
            "Epoch 58/100\n",
            "484/484 [==============================] - 5s 11ms/step - loss: 1.6509 - accuracy: 0.7153\n",
            "Epoch 59/100\n",
            "484/484 [==============================] - 5s 11ms/step - loss: 1.6168 - accuracy: 0.7224\n",
            "Epoch 60/100\n",
            "484/484 [==============================] - 5s 11ms/step - loss: 1.5991 - accuracy: 0.7261\n",
            "Epoch 61/100\n",
            "484/484 [==============================] - 5s 10ms/step - loss: 1.5640 - accuracy: 0.7355\n",
            "Epoch 62/100\n",
            "484/484 [==============================] - 5s 10ms/step - loss: 1.5440 - accuracy: 0.7378\n",
            "Epoch 63/100\n",
            "484/484 [==============================] - 5s 10ms/step - loss: 1.5251 - accuracy: 0.7396\n",
            "Epoch 64/100\n",
            "484/484 [==============================] - 5s 10ms/step - loss: 1.4957 - accuracy: 0.7493\n",
            "Epoch 65/100\n",
            "484/484 [==============================] - 5s 11ms/step - loss: 1.4478 - accuracy: 0.7575\n",
            "Epoch 66/100\n",
            "484/484 [==============================] - 5s 10ms/step - loss: 1.4275 - accuracy: 0.7615\n",
            "Epoch 67/100\n",
            "484/484 [==============================] - 5s 10ms/step - loss: 1.4113 - accuracy: 0.7621\n",
            "Epoch 68/100\n",
            "484/484 [==============================] - 5s 10ms/step - loss: 1.3820 - accuracy: 0.7698\n",
            "Epoch 69/100\n",
            "484/484 [==============================] - 5s 11ms/step - loss: 1.3590 - accuracy: 0.7740\n",
            "Epoch 70/100\n",
            "484/484 [==============================] - 5s 10ms/step - loss: 1.3495 - accuracy: 0.7753\n",
            "Epoch 71/100\n",
            "484/484 [==============================] - 5s 11ms/step - loss: 1.3409 - accuracy: 0.7761\n",
            "Epoch 72/100\n",
            "484/484 [==============================] - 5s 11ms/step - loss: 1.3372 - accuracy: 0.7734\n",
            "Epoch 73/100\n",
            "484/484 [==============================] - 5s 11ms/step - loss: 1.2966 - accuracy: 0.7826\n",
            "Epoch 74/100\n",
            "484/484 [==============================] - 5s 10ms/step - loss: 1.2718 - accuracy: 0.7878\n",
            "Epoch 75/100\n",
            "484/484 [==============================] - 5s 11ms/step - loss: 1.2612 - accuracy: 0.7877\n",
            "Epoch 76/100\n",
            "484/484 [==============================] - 5s 11ms/step - loss: 1.2300 - accuracy: 0.7945\n",
            "Epoch 77/100\n",
            "484/484 [==============================] - 5s 11ms/step - loss: 1.2106 - accuracy: 0.7973\n",
            "Epoch 78/100\n",
            "484/484 [==============================] - 5s 10ms/step - loss: 1.2085 - accuracy: 0.7976\n",
            "Epoch 79/100\n",
            "484/484 [==============================] - 5s 11ms/step - loss: 1.2176 - accuracy: 0.7935\n",
            "Epoch 80/100\n",
            "484/484 [==============================] - 5s 11ms/step - loss: 1.2084 - accuracy: 0.7918\n",
            "Epoch 81/100\n",
            "484/484 [==============================] - 5s 11ms/step - loss: 1.1812 - accuracy: 0.8013\n",
            "Epoch 82/100\n",
            "484/484 [==============================] - 5s 10ms/step - loss: 1.1571 - accuracy: 0.8057\n",
            "Epoch 83/100\n",
            "484/484 [==============================] - 5s 11ms/step - loss: 1.1515 - accuracy: 0.8069\n",
            "Epoch 84/100\n",
            "484/484 [==============================] - 5s 11ms/step - loss: 1.1317 - accuracy: 0.8090\n",
            "Epoch 85/100\n",
            "484/484 [==============================] - 5s 11ms/step - loss: 1.1143 - accuracy: 0.8106\n",
            "Epoch 86/100\n",
            "484/484 [==============================] - 5s 11ms/step - loss: 1.1140 - accuracy: 0.8107\n",
            "Epoch 87/100\n",
            "484/484 [==============================] - 5s 11ms/step - loss: 1.0910 - accuracy: 0.8148\n",
            "Epoch 88/100\n",
            "484/484 [==============================] - 5s 11ms/step - loss: 1.0793 - accuracy: 0.8148\n",
            "Epoch 89/100\n",
            "484/484 [==============================] - 5s 11ms/step - loss: 1.1026 - accuracy: 0.8099\n",
            "Epoch 90/100\n",
            "484/484 [==============================] - 5s 11ms/step - loss: 1.0900 - accuracy: 0.8122\n",
            "Epoch 91/100\n",
            "484/484 [==============================] - 5s 10ms/step - loss: 1.0834 - accuracy: 0.8136\n",
            "Epoch 92/100\n",
            "484/484 [==============================] - 5s 11ms/step - loss: 1.0676 - accuracy: 0.8173\n",
            "Epoch 93/100\n",
            "484/484 [==============================] - 5s 11ms/step - loss: 1.0580 - accuracy: 0.8166\n",
            "Epoch 94/100\n",
            "484/484 [==============================] - 5s 10ms/step - loss: 1.0641 - accuracy: 0.8139\n",
            "Epoch 95/100\n",
            "484/484 [==============================] - 5s 11ms/step - loss: 1.0438 - accuracy: 0.8202\n",
            "Epoch 96/100\n",
            "484/484 [==============================] - 5s 11ms/step - loss: 1.0095 - accuracy: 0.8273\n",
            "Epoch 97/100\n",
            "484/484 [==============================] - 5s 11ms/step - loss: 1.0055 - accuracy: 0.8274\n",
            "Epoch 98/100\n",
            "484/484 [==============================] - 5s 11ms/step - loss: 1.0126 - accuracy: 0.8219\n",
            "Epoch 99/100\n",
            "484/484 [==============================] - 5s 10ms/step - loss: 1.0204 - accuracy: 0.8207\n",
            "Epoch 100/100\n",
            "484/484 [==============================] - 5s 11ms/step - loss: 1.0043 - accuracy: 0.8243\n"
          ]
        }
      ]
    },
    {
      "cell_type": "code",
      "metadata": {
        "id": "1fXTEO3GJ282",
        "outputId": "e963de51-4126-4b1e-f604-0d69e1c38ba8",
        "colab": {
          "base_uri": "https://localhost:8080/",
          "height": 545
        }
      },
      "source": [
        "import matplotlib.pyplot as plt\n",
        "acc = history.history['accuracy']\n",
        "loss = history.history['loss']\n",
        "\n",
        "epochs = range(len(acc))\n",
        "\n",
        "plt.plot(epochs, acc, 'b', label='Training accuracy')\n",
        "plt.title('Training accuracy')\n",
        "\n",
        "plt.figure()\n",
        "\n",
        "plt.plot(epochs, loss, 'b', label='Training Loss')\n",
        "plt.title('Training loss')\n",
        "plt.legend()\n",
        "\n",
        "plt.show()"
      ],
      "execution_count": 27,
      "outputs": [
        {
          "output_type": "display_data",
          "data": {
            "image/png": "[encoded data removed]",
            "text/plain": [
              "<Figure size 432x288 with 1 Axes>"
            ]
          },
          "metadata": {
            "needs_background": "light"
          }
        },
        {
          "output_type": "display_data",
          "data": {
            "image/png": "[encoded data removed]",
            "text/plain": [
              "<Figure size 432x288 with 1 Axes>"
            ]
          },
          "metadata": {
            "needs_background": "light"
          }
        }
      ]
    },
    {
      "cell_type": "code",
      "metadata": {
        "id": "6Vc6PHgxa6Hm",
        "outputId": "812201b9-4219-4720-d504-e18f33e4f4e8",
        "colab": {
          "base_uri": "https://localhost:8080/"
        }
      },
      "source": [
        "seed_text = \"Help me Obi Wan Kenobi, you're my only hope\"\n",
        "next_words = 100\n",
        "  \n",
        "for _ in range(next_words):\n",
        "\ttoken_list = tokenizer.texts_to_sequences([seed_text])[0]\n",
        "\ttoken_list = pad_sequences([token_list], maxlen=max_sequence_len-1, padding='pre')\n",
        "\tpredicted = model.predict(token_list, verbose=0)\n",
        "\tpredicted_class = np.argmax(predicted, axis=-1)\n",
        "\toutput_word = \"\"\n",
        "\tfor word, index in tokenizer.word_index.items():\n",
        "\t\tif index == predicted_class:\n",
        "\t\t\toutput_word = word\n",
        "\t\t\tbreak\n",
        "\tseed_text += \" \" + output_word\n",
        "print(seed_text)"
      ],
      "execution_count": 36,
      "outputs": [
        {
          "output_type": "stream",
          "name": "stdout",
          "text": [
            "Help me Obi Wan Kenobi, you're my only hope away the way days torn slain ' alone did chide too green me ' alone live alone alone alone write his ill short days were lie with their ' or die alone alone alone live before behold alone live doth thee thy state to thee alone grows alone before behold behold alone knowing thine ' no wrong old kill'd faith prove ' aside go strong lie to die to thee behold alone may be alone so behold to thine be such thy blind eyes still still be away all thee alone live grace beauty's thee so swear or me to\n"
          ]
        }
      ]
    }
  ]
}