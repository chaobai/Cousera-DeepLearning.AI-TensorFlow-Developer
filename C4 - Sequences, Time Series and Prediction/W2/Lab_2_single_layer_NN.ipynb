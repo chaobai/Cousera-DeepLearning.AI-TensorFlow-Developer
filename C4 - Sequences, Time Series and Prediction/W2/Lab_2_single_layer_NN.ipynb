{
  "nbformat": 4,
  "nbformat_minor": 0,
  "metadata": {
    "colab": {
      "name": "C4_W2_Lab_2_single_layer_NN.ipynb",
      "provenance": [],
      "collapsed_sections": [],
      "include_colab_link": true
    },
    "kernelspec": {
      "name": "python3",
      "display_name": "Python 3"
    },
    "language_info": {
      "name": "python"
    },
    "accelerator": "GPU"
  },
  "cells": [
    {
      "cell_type": "markdown",
      "metadata": {
        "id": "view-in-github",
        "colab_type": "text"
      },
      "source": [
        "<a href=\"https://colab.research.google.com/github/chaobai/Cousera-DeepLearning.AI-TensorFlow-Developer/blob/master/C4%20-%20Sequences%2C%20Time%20Series%20and%20Prediction/W2/Lab_2_single_layer_NN.ipynb\" target=\"_parent\"><img src=\"https://colab.research.google.com/assets/colab-badge.svg\" alt=\"Open In Colab\"/></a>"
      ]
    },
    {
      "cell_type": "code",
      "metadata": {
        "id": "BOjujz601HcS",
        "outputId": "d38a3526-b125-47d3-9545-7c2a5794b597",
        "colab": {
          "base_uri": "https://localhost:8080/"
        }
      },
      "source": [
        "import tensorflow as tf\n",
        "import numpy as np\n",
        "import matplotlib.pyplot as plt\n",
        "print(tf.__version__)"
      ],
      "execution_count": 1,
      "outputs": [
        {
          "output_type": "stream",
          "name": "stdout",
          "text": [
            "2.7.0\n"
          ]
        }
      ]
    },
    {
      "cell_type": "code",
      "metadata": {
        "id": "Zswl7jRtGzkk"
      },
      "source": [
        "def plot_series(time, series, format=\"-\", start=0, end=None):\n",
        "    plt.plot(time[start:end], series[start:end], format)\n",
        "    plt.xlabel(\"Time\")\n",
        "    plt.ylabel(\"Value\")\n",
        "    plt.grid(True)\n",
        "\n",
        "def trend(time, slope=0):\n",
        "    return slope * time\n",
        "\n",
        "def seasonal_pattern(season_time):\n",
        "    \"\"\"Just an arbitrary pattern, you can change it if you wish\"\"\"\n",
        "    return np.where(season_time < 0.4,\n",
        "                    np.cos(season_time * 2 * np.pi),\n",
        "                    1 / np.exp(3 * season_time))\n",
        "\n",
        "def seasonality(time, period, amplitude=1, phase=0):\n",
        "    \"\"\"Repeats the same pattern at each period\"\"\"\n",
        "    season_time = ((time + phase) % period) / period\n",
        "    return amplitude * seasonal_pattern(season_time)\n",
        "\n",
        "def noise(time, noise_level=1, seed=None):\n",
        "    rnd = np.random.RandomState(seed)\n",
        "    return rnd.randn(len(time)) * noise_level\n",
        "\n",
        "time = np.arange(4 * 365 + 1, dtype=\"float32\")\n",
        "baseline = 10\n",
        "series = trend(time, 0.1)  \n",
        "baseline = 10\n",
        "amplitude = 40\n",
        "slope = 0.05\n",
        "noise_level = 5\n",
        "\n",
        "# Create the series\n",
        "series = baseline + trend(time, slope) + seasonality(time, period=365, amplitude=amplitude)\n",
        "# Update with noise\n",
        "series += noise(time, noise_level, seed=42)\n",
        "\n",
        "split_time = 1000\n",
        "time_train = time[:split_time]\n",
        "x_train = series[:split_time]\n",
        "time_valid = time[split_time:]\n",
        "x_valid = series[split_time:]\n",
        "\n",
        "window_size = 20\n",
        "batch_size = 32\n",
        "shuffle_buffer_size = 1000"
      ],
      "execution_count": 2,
      "outputs": []
    },
    {
      "cell_type": "code",
      "metadata": {
        "id": "4sTTIOCbyShY"
      },
      "source": [
        "def windowed_dataset(series, window_size, batch_size, shuffle_buffer):\n",
        "  dataset = tf.data.Dataset.from_tensor_slices(series)\n",
        "  dataset = dataset.window(window_size + 1, shift=1, drop_remainder=True)\n",
        "  dataset = dataset.flat_map(lambda window: window.batch(window_size + 1))\n",
        "  dataset = dataset.shuffle(shuffle_buffer).map(lambda window: (window[:-1], window[-1]))\n",
        "  dataset = dataset.batch(batch_size).prefetch(1)\n",
        "  return dataset"
      ],
      "execution_count": 3,
      "outputs": []
    },
    {
      "cell_type": "code",
      "metadata": {
        "id": "ou-WmE2AXu6B",
        "outputId": "90834e63-b4c6-489a-84be-8b8d1c533842",
        "colab": {
          "base_uri": "https://localhost:8080/"
        }
      },
      "source": [
        "dataset = windowed_dataset(x_train, window_size, batch_size, shuffle_buffer_size)\n",
        "print(dataset)\n",
        "l0 = tf.keras.layers.Dense(1, input_shape=[window_size])\n",
        "model = tf.keras.models.Sequential([l0])\n",
        "\n",
        "model.compile(loss=\"mse\", optimizer=tf.optimizers.SGD(learning_rate=1e-6, momentum=0.9))\n",
        "model.fit(dataset, epochs=100, verbose=1)\n",
        "\n",
        "print(\"Layer weights {}\".format(l0.get_weights()))\n"
      ],
      "execution_count": 8,
      "outputs": [
        {
          "output_type": "stream",
          "name": "stdout",
          "text": [
            "<PrefetchDataset shapes: ((None, None), (None,)), types: (tf.float32, tf.float32)>\n",
            "Epoch 1/100\n",
            "31/31 [==============================] - 0s 4ms/step - loss: 612.0193\n",
            "Epoch 2/100\n",
            "31/31 [==============================] - 0s 2ms/step - loss: 161.5463\n",
            "Epoch 3/100\n",
            "31/31 [==============================] - 0s 2ms/step - loss: 132.5118\n",
            "Epoch 4/100\n",
            "31/31 [==============================] - 0s 2ms/step - loss: 125.1620\n",
            "Epoch 5/100\n",
            "31/31 [==============================] - 0s 2ms/step - loss: 115.2174\n",
            "Epoch 6/100\n",
            "31/31 [==============================] - 0s 2ms/step - loss: 110.7953\n",
            "Epoch 7/100\n",
            "31/31 [==============================] - 0s 3ms/step - loss: 105.7719\n",
            "Epoch 8/100\n",
            "31/31 [==============================] - 0s 3ms/step - loss: 102.4068\n",
            "Epoch 9/100\n",
            "31/31 [==============================] - 0s 3ms/step - loss: 100.1102\n",
            "Epoch 10/100\n",
            "31/31 [==============================] - 0s 2ms/step - loss: 95.1846\n",
            "Epoch 11/100\n",
            "31/31 [==============================] - 0s 2ms/step - loss: 92.6017\n",
            "Epoch 12/100\n",
            "31/31 [==============================] - 0s 2ms/step - loss: 89.4722\n",
            "Epoch 13/100\n",
            "31/31 [==============================] - 0s 2ms/step - loss: 87.7940\n",
            "Epoch 14/100\n",
            "31/31 [==============================] - 0s 3ms/step - loss: 85.7025\n",
            "Epoch 15/100\n",
            "31/31 [==============================] - 0s 2ms/step - loss: 82.7034\n",
            "Epoch 16/100\n",
            "31/31 [==============================] - 0s 2ms/step - loss: 81.8671\n",
            "Epoch 17/100\n",
            "31/31 [==============================] - 0s 3ms/step - loss: 79.2706\n",
            "Epoch 18/100\n",
            "31/31 [==============================] - 0s 2ms/step - loss: 77.3311\n",
            "Epoch 19/100\n",
            "31/31 [==============================] - 0s 3ms/step - loss: 76.0450\n",
            "Epoch 20/100\n",
            "31/31 [==============================] - 0s 2ms/step - loss: 74.6975\n",
            "Epoch 21/100\n",
            "31/31 [==============================] - 0s 2ms/step - loss: 72.8750\n",
            "Epoch 22/100\n",
            "31/31 [==============================] - 0s 2ms/step - loss: 71.0106\n",
            "Epoch 23/100\n",
            "31/31 [==============================] - 0s 3ms/step - loss: 69.3624\n",
            "Epoch 24/100\n",
            "31/31 [==============================] - 0s 2ms/step - loss: 68.5746\n",
            "Epoch 25/100\n",
            "31/31 [==============================] - 0s 2ms/step - loss: 69.1228\n",
            "Epoch 26/100\n",
            "31/31 [==============================] - 0s 2ms/step - loss: 66.2507\n",
            "Epoch 27/100\n",
            "31/31 [==============================] - 0s 2ms/step - loss: 64.9458\n",
            "Epoch 28/100\n",
            "31/31 [==============================] - 0s 2ms/step - loss: 64.2407\n",
            "Epoch 29/100\n",
            "31/31 [==============================] - 0s 2ms/step - loss: 63.3815\n",
            "Epoch 30/100\n",
            "31/31 [==============================] - 0s 2ms/step - loss: 63.2796\n",
            "Epoch 31/100\n",
            "31/31 [==============================] - 0s 2ms/step - loss: 62.0438\n",
            "Epoch 32/100\n",
            "31/31 [==============================] - 0s 3ms/step - loss: 61.3460\n",
            "Epoch 33/100\n",
            "31/31 [==============================] - 0s 2ms/step - loss: 60.3495\n",
            "Epoch 34/100\n",
            "31/31 [==============================] - 0s 3ms/step - loss: 59.1340\n",
            "Epoch 35/100\n",
            "31/31 [==============================] - 0s 3ms/step - loss: 58.6318\n",
            "Epoch 36/100\n",
            "31/31 [==============================] - 0s 3ms/step - loss: 57.9902\n",
            "Epoch 37/100\n",
            "31/31 [==============================] - 0s 2ms/step - loss: 58.3694\n",
            "Epoch 38/100\n",
            "31/31 [==============================] - 0s 2ms/step - loss: 57.7389\n",
            "Epoch 39/100\n",
            "31/31 [==============================] - 0s 2ms/step - loss: 56.0349\n",
            "Epoch 40/100\n",
            "31/31 [==============================] - 0s 2ms/step - loss: 55.5759\n",
            "Epoch 41/100\n",
            "31/31 [==============================] - 0s 2ms/step - loss: 54.6519\n",
            "Epoch 42/100\n",
            "31/31 [==============================] - 0s 2ms/step - loss: 55.9986\n",
            "Epoch 43/100\n",
            "31/31 [==============================] - 0s 2ms/step - loss: 55.2606\n",
            "Epoch 44/100\n",
            "31/31 [==============================] - 0s 2ms/step - loss: 53.0620\n",
            "Epoch 45/100\n",
            "31/31 [==============================] - 0s 3ms/step - loss: 53.1575\n",
            "Epoch 46/100\n",
            "31/31 [==============================] - 0s 3ms/step - loss: 52.6839\n",
            "Epoch 47/100\n",
            "31/31 [==============================] - 0s 2ms/step - loss: 52.1747\n",
            "Epoch 48/100\n",
            "31/31 [==============================] - 0s 3ms/step - loss: 51.4161\n",
            "Epoch 49/100\n",
            "31/31 [==============================] - 0s 2ms/step - loss: 51.1679\n",
            "Epoch 50/100\n",
            "31/31 [==============================] - 0s 2ms/step - loss: 51.7039\n",
            "Epoch 51/100\n",
            "31/31 [==============================] - 0s 2ms/step - loss: 51.6174\n",
            "Epoch 52/100\n",
            "31/31 [==============================] - 0s 3ms/step - loss: 50.6164\n",
            "Epoch 53/100\n",
            "31/31 [==============================] - 0s 3ms/step - loss: 49.6816\n",
            "Epoch 54/100\n",
            "31/31 [==============================] - 0s 2ms/step - loss: 49.6633\n",
            "Epoch 55/100\n",
            "31/31 [==============================] - 0s 3ms/step - loss: 49.3284\n",
            "Epoch 56/100\n",
            "31/31 [==============================] - 0s 2ms/step - loss: 49.3038\n",
            "Epoch 57/100\n",
            "31/31 [==============================] - 0s 2ms/step - loss: 49.8415\n",
            "Epoch 58/100\n",
            "31/31 [==============================] - 0s 2ms/step - loss: 49.5700\n",
            "Epoch 59/100\n",
            "31/31 [==============================] - 0s 3ms/step - loss: 48.7851\n",
            "Epoch 60/100\n",
            "31/31 [==============================] - 0s 3ms/step - loss: 48.2784\n",
            "Epoch 61/100\n",
            "31/31 [==============================] - 0s 2ms/step - loss: 48.7475\n",
            "Epoch 62/100\n",
            "31/31 [==============================] - 0s 2ms/step - loss: 47.6729\n",
            "Epoch 63/100\n",
            "31/31 [==============================] - 0s 3ms/step - loss: 47.4390\n",
            "Epoch 64/100\n",
            "31/31 [==============================] - 0s 3ms/step - loss: 47.1136\n",
            "Epoch 65/100\n",
            "31/31 [==============================] - 0s 3ms/step - loss: 47.6338\n",
            "Epoch 66/100\n",
            "31/31 [==============================] - 0s 2ms/step - loss: 47.6037\n",
            "Epoch 67/100\n",
            "31/31 [==============================] - 0s 3ms/step - loss: 47.3899\n",
            "Epoch 68/100\n",
            "31/31 [==============================] - 0s 2ms/step - loss: 46.5363\n",
            "Epoch 69/100\n",
            "31/31 [==============================] - 0s 2ms/step - loss: 47.8377\n",
            "Epoch 70/100\n",
            "31/31 [==============================] - 0s 3ms/step - loss: 46.0727\n",
            "Epoch 71/100\n",
            "31/31 [==============================] - 0s 3ms/step - loss: 46.5128\n",
            "Epoch 72/100\n",
            "31/31 [==============================] - 0s 3ms/step - loss: 46.7926\n",
            "Epoch 73/100\n",
            "31/31 [==============================] - 0s 2ms/step - loss: 45.8766\n",
            "Epoch 74/100\n",
            "31/31 [==============================] - 0s 2ms/step - loss: 45.8828\n",
            "Epoch 75/100\n",
            "31/31 [==============================] - 0s 2ms/step - loss: 45.7376\n",
            "Epoch 76/100\n",
            "31/31 [==============================] - 0s 2ms/step - loss: 46.3614\n",
            "Epoch 77/100\n",
            "31/31 [==============================] - 0s 2ms/step - loss: 46.7360\n",
            "Epoch 78/100\n",
            "31/31 [==============================] - 0s 2ms/step - loss: 45.9316\n",
            "Epoch 79/100\n",
            "31/31 [==============================] - 0s 2ms/step - loss: 45.7221\n",
            "Epoch 80/100\n",
            "31/31 [==============================] - 0s 2ms/step - loss: 45.1715\n",
            "Epoch 81/100\n",
            "31/31 [==============================] - 0s 2ms/step - loss: 45.2745\n",
            "Epoch 82/100\n",
            "31/31 [==============================] - 0s 2ms/step - loss: 45.3839\n",
            "Epoch 83/100\n",
            "31/31 [==============================] - 0s 3ms/step - loss: 45.0700\n",
            "Epoch 84/100\n",
            "31/31 [==============================] - 0s 2ms/step - loss: 45.0907\n",
            "Epoch 85/100\n",
            "31/31 [==============================] - 0s 3ms/step - loss: 44.8514\n",
            "Epoch 86/100\n",
            "31/31 [==============================] - 0s 2ms/step - loss: 45.0849\n",
            "Epoch 87/100\n",
            "31/31 [==============================] - 0s 2ms/step - loss: 45.2776\n",
            "Epoch 88/100\n",
            "31/31 [==============================] - 0s 2ms/step - loss: 44.7545\n",
            "Epoch 89/100\n",
            "31/31 [==============================] - 0s 2ms/step - loss: 44.3810\n",
            "Epoch 90/100\n",
            "31/31 [==============================] - 0s 2ms/step - loss: 44.6774\n",
            "Epoch 91/100\n",
            "31/31 [==============================] - 0s 2ms/step - loss: 45.0078\n",
            "Epoch 92/100\n",
            "31/31 [==============================] - 0s 2ms/step - loss: 45.6839\n",
            "Epoch 93/100\n",
            "31/31 [==============================] - 0s 3ms/step - loss: 45.9014\n",
            "Epoch 94/100\n",
            "31/31 [==============================] - 0s 2ms/step - loss: 44.1236\n",
            "Epoch 95/100\n",
            "31/31 [==============================] - 0s 2ms/step - loss: 44.5670\n",
            "Epoch 96/100\n",
            "31/31 [==============================] - 0s 3ms/step - loss: 44.6264\n",
            "Epoch 97/100\n",
            "31/31 [==============================] - 0s 2ms/step - loss: 44.6381\n",
            "Epoch 98/100\n",
            "31/31 [==============================] - 0s 2ms/step - loss: 43.9538\n",
            "Epoch 99/100\n",
            "31/31 [==============================] - 0s 3ms/step - loss: 44.4904\n",
            "Epoch 100/100\n",
            "31/31 [==============================] - 0s 2ms/step - loss: 43.9370\n",
            "Layer weights [array([[-0.05689708],\n",
            "       [ 0.02212969],\n",
            "       [ 0.06013835],\n",
            "       [-0.00355912],\n",
            "       [-0.04439512],\n",
            "       [-0.01205035],\n",
            "       [ 0.01060509],\n",
            "       [ 0.01615974],\n",
            "       [ 0.04742184],\n",
            "       [ 0.03458872],\n",
            "       [-0.08921149],\n",
            "       [-0.06501548],\n",
            "       [ 0.02604188],\n",
            "       [ 0.06830278],\n",
            "       [ 0.03086635],\n",
            "       [ 0.06301063],\n",
            "       [ 0.00997547],\n",
            "       [ 0.11874229],\n",
            "       [ 0.34912235],\n",
            "       [ 0.40534708]], dtype=float32), array([0.0126432], dtype=float32)]\n"
          ]
        }
      ]
    },
    {
      "cell_type": "code",
      "metadata": {
        "id": "-gtVJuLVxR-M",
        "outputId": "93a0a12c-25e6-43df-d32b-eda330f7a6fc",
        "colab": {
          "base_uri": "https://localhost:8080/",
          "height": 388
        }
      },
      "source": [
        "forecast = []\n",
        "\n",
        "for time in range(len(series) - window_size):\n",
        "  forecast.append(model.predict(series[time:time + window_size][np.newaxis]))\n",
        "\n",
        "forecast = forecast[split_time-window_size:]\n",
        "results = np.array(forecast)[:, 0, 0]\n",
        "\n",
        "\n",
        "plt.figure(figsize=(10, 6))\n",
        "\n",
        "plot_series(time_valid, x_valid)\n",
        "plot_series(time_valid, results)"
      ],
      "execution_count": 9,
      "outputs": [
        {
          "output_type": "display_data",
          "data": {
            "image/png": "[encoded data removed]",
            "text/plain": [
              "<Figure size 720x432 with 1 Axes>"
            ]
          },
          "metadata": {
            "needs_background": "light"
          }
        }
      ]
    },
    {
      "cell_type": "code",
      "metadata": {
        "id": "hR2BO0Dai_ZT",
        "outputId": "5f7c7c8e-304c-43e7-c415-c20baf6bb9e2",
        "colab": {
          "base_uri": "https://localhost:8080/"
        }
      },
      "source": [
        "tf.keras.metrics.mean_absolute_error(x_valid, results).numpy()"
      ],
      "execution_count": 10,
      "outputs": [
        {
          "output_type": "execute_result",
          "data": {
            "text/plain": [
              "5.0111213"
            ]
          },
          "metadata": {},
          "execution_count": 10
        }
      ]
    }
  ]
}